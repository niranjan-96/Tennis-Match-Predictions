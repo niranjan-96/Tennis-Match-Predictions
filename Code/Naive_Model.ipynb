{
 "cells": [
  {
   "cell_type": "markdown",
   "id": "84c4d339",
   "metadata": {},
   "source": [
    "## Import Libraries:"
   ]
  },
  {
   "cell_type": "code",
   "execution_count": 1,
   "id": "1549c596",
   "metadata": {},
   "outputs": [],
   "source": [
    "import warnings\n",
    "import numpy as np  # For numerical operations\n",
    "import pandas as pd  # For data manipulation and analysis\n",
    "import os  # For interacting with the operating system\n",
    "\n",
    "# Suppress specific UserWarnings from openpyxl\n",
    "warnings.filterwarnings(\"ignore\", category=UserWarning, module='openpyxl')"
   ]
  },
  {
   "cell_type": "markdown",
   "id": "5874c229",
   "metadata": {},
   "source": [
    "## Load the data:"
   ]
  },
  {
   "cell_type": "code",
   "execution_count": 2,
   "id": "7ed4a5da",
   "metadata": {},
   "outputs": [],
   "source": [
    "# Define the directory where your files are located\n",
    "# data_dir = '.' \n",
    "data_dir = os.path.join(os.path.pardir)  "
   ]
  },
  {
   "cell_type": "code",
   "execution_count": 3,
   "id": "c0f551f2",
   "metadata": {},
   "outputs": [],
   "source": [
    "# List to hold the dataframes\n",
    "dataframes = []\n",
    "\n",
    "# Loop through the years and load the files\n",
    "for year in range(2005, 2020):\n",
    "    if year <= 2012:\n",
    "        file_path = os.path.join(data_dir, f'{year}.xls')\n",
    "    else:\n",
    "        file_path = os.path.join(data_dir, f'{year}.xlsx')\n",
    "    \n",
    "    # Load the file into a dataframe\n",
    "    df = pd.read_excel(file_path)\n",
    "    \n",
    "    # Append the dataframe to the list\n",
    "    dataframes.append(df)"
   ]
  },
  {
   "cell_type": "code",
   "execution_count": 4,
   "id": "b82f2efb",
   "metadata": {},
   "outputs": [
    {
     "data": {
      "text/html": [
       "<div>\n",
       "<style scoped>\n",
       "    .dataframe tbody tr th:only-of-type {\n",
       "        vertical-align: middle;\n",
       "    }\n",
       "\n",
       "    .dataframe tbody tr th {\n",
       "        vertical-align: top;\n",
       "    }\n",
       "\n",
       "    .dataframe thead th {\n",
       "        text-align: right;\n",
       "    }\n",
       "</style>\n",
       "<table border=\"1\" class=\"dataframe\">\n",
       "  <thead>\n",
       "    <tr style=\"text-align: right;\">\n",
       "      <th></th>\n",
       "      <th>ATP</th>\n",
       "      <th>Location</th>\n",
       "      <th>Tournament</th>\n",
       "      <th>Date</th>\n",
       "      <th>Series</th>\n",
       "      <th>Court</th>\n",
       "      <th>Surface</th>\n",
       "      <th>Round</th>\n",
       "      <th>Best of</th>\n",
       "      <th>Winner</th>\n",
       "      <th>...</th>\n",
       "      <th>UBW</th>\n",
       "      <th>UBL</th>\n",
       "      <th>LBW</th>\n",
       "      <th>LBL</th>\n",
       "      <th>SJW</th>\n",
       "      <th>SJL</th>\n",
       "      <th>MaxW</th>\n",
       "      <th>MaxL</th>\n",
       "      <th>AvgW</th>\n",
       "      <th>AvgL</th>\n",
       "    </tr>\n",
       "  </thead>\n",
       "  <tbody>\n",
       "    <tr>\n",
       "      <th>0</th>\n",
       "      <td>1</td>\n",
       "      <td>Adelaide</td>\n",
       "      <td>Next Generation Hardcourts</td>\n",
       "      <td>2005-01-03</td>\n",
       "      <td>International</td>\n",
       "      <td>Outdoor</td>\n",
       "      <td>Hard</td>\n",
       "      <td>1st Round</td>\n",
       "      <td>3</td>\n",
       "      <td>Saulnier C.</td>\n",
       "      <td>...</td>\n",
       "      <td>NaN</td>\n",
       "      <td>NaN</td>\n",
       "      <td>NaN</td>\n",
       "      <td>NaN</td>\n",
       "      <td>NaN</td>\n",
       "      <td>NaN</td>\n",
       "      <td>NaN</td>\n",
       "      <td>NaN</td>\n",
       "      <td>NaN</td>\n",
       "      <td>NaN</td>\n",
       "    </tr>\n",
       "    <tr>\n",
       "      <th>1</th>\n",
       "      <td>1</td>\n",
       "      <td>Adelaide</td>\n",
       "      <td>Next Generation Hardcourts</td>\n",
       "      <td>2005-01-03</td>\n",
       "      <td>International</td>\n",
       "      <td>Outdoor</td>\n",
       "      <td>Hard</td>\n",
       "      <td>1st Round</td>\n",
       "      <td>3</td>\n",
       "      <td>Enqvist T.</td>\n",
       "      <td>...</td>\n",
       "      <td>NaN</td>\n",
       "      <td>NaN</td>\n",
       "      <td>NaN</td>\n",
       "      <td>NaN</td>\n",
       "      <td>NaN</td>\n",
       "      <td>NaN</td>\n",
       "      <td>NaN</td>\n",
       "      <td>NaN</td>\n",
       "      <td>NaN</td>\n",
       "      <td>NaN</td>\n",
       "    </tr>\n",
       "    <tr>\n",
       "      <th>2</th>\n",
       "      <td>1</td>\n",
       "      <td>Adelaide</td>\n",
       "      <td>Next Generation Hardcourts</td>\n",
       "      <td>2005-01-03</td>\n",
       "      <td>International</td>\n",
       "      <td>Outdoor</td>\n",
       "      <td>Hard</td>\n",
       "      <td>1st Round</td>\n",
       "      <td>3</td>\n",
       "      <td>Melzer J.</td>\n",
       "      <td>...</td>\n",
       "      <td>NaN</td>\n",
       "      <td>NaN</td>\n",
       "      <td>NaN</td>\n",
       "      <td>NaN</td>\n",
       "      <td>NaN</td>\n",
       "      <td>NaN</td>\n",
       "      <td>NaN</td>\n",
       "      <td>NaN</td>\n",
       "      <td>NaN</td>\n",
       "      <td>NaN</td>\n",
       "    </tr>\n",
       "    <tr>\n",
       "      <th>3</th>\n",
       "      <td>1</td>\n",
       "      <td>Adelaide</td>\n",
       "      <td>Next Generation Hardcourts</td>\n",
       "      <td>2005-01-03</td>\n",
       "      <td>International</td>\n",
       "      <td>Outdoor</td>\n",
       "      <td>Hard</td>\n",
       "      <td>1st Round</td>\n",
       "      <td>3</td>\n",
       "      <td>Rochus O.</td>\n",
       "      <td>...</td>\n",
       "      <td>NaN</td>\n",
       "      <td>NaN</td>\n",
       "      <td>NaN</td>\n",
       "      <td>NaN</td>\n",
       "      <td>NaN</td>\n",
       "      <td>NaN</td>\n",
       "      <td>NaN</td>\n",
       "      <td>NaN</td>\n",
       "      <td>NaN</td>\n",
       "      <td>NaN</td>\n",
       "    </tr>\n",
       "    <tr>\n",
       "      <th>4</th>\n",
       "      <td>1</td>\n",
       "      <td>Adelaide</td>\n",
       "      <td>Next Generation Hardcourts</td>\n",
       "      <td>2005-01-03</td>\n",
       "      <td>International</td>\n",
       "      <td>Outdoor</td>\n",
       "      <td>Hard</td>\n",
       "      <td>1st Round</td>\n",
       "      <td>3</td>\n",
       "      <td>Mayer F.</td>\n",
       "      <td>...</td>\n",
       "      <td>NaN</td>\n",
       "      <td>NaN</td>\n",
       "      <td>NaN</td>\n",
       "      <td>NaN</td>\n",
       "      <td>NaN</td>\n",
       "      <td>NaN</td>\n",
       "      <td>NaN</td>\n",
       "      <td>NaN</td>\n",
       "      <td>NaN</td>\n",
       "      <td>NaN</td>\n",
       "    </tr>\n",
       "  </tbody>\n",
       "</table>\n",
       "<p>5 rows × 48 columns</p>\n",
       "</div>"
      ],
      "text/plain": [
       "   ATP  Location                  Tournament       Date         Series  \\\n",
       "0    1  Adelaide  Next Generation Hardcourts 2005-01-03  International   \n",
       "1    1  Adelaide  Next Generation Hardcourts 2005-01-03  International   \n",
       "2    1  Adelaide  Next Generation Hardcourts 2005-01-03  International   \n",
       "3    1  Adelaide  Next Generation Hardcourts 2005-01-03  International   \n",
       "4    1  Adelaide  Next Generation Hardcourts 2005-01-03  International   \n",
       "\n",
       "     Court Surface      Round  Best of       Winner  ... UBW  UBL  LBW  LBL  \\\n",
       "0  Outdoor    Hard  1st Round        3  Saulnier C.  ... NaN  NaN  NaN  NaN   \n",
       "1  Outdoor    Hard  1st Round        3   Enqvist T.  ... NaN  NaN  NaN  NaN   \n",
       "2  Outdoor    Hard  1st Round        3    Melzer J.  ... NaN  NaN  NaN  NaN   \n",
       "3  Outdoor    Hard  1st Round        3    Rochus O.  ... NaN  NaN  NaN  NaN   \n",
       "4  Outdoor    Hard  1st Round        3     Mayer F.  ... NaN  NaN  NaN  NaN   \n",
       "\n",
       "   SJW  SJL  MaxW MaxL AvgW AvgL  \n",
       "0  NaN  NaN   NaN  NaN  NaN  NaN  \n",
       "1  NaN  NaN   NaN  NaN  NaN  NaN  \n",
       "2  NaN  NaN   NaN  NaN  NaN  NaN  \n",
       "3  NaN  NaN   NaN  NaN  NaN  NaN  \n",
       "4  NaN  NaN   NaN  NaN  NaN  NaN  \n",
       "\n",
       "[5 rows x 48 columns]"
      ]
     },
     "execution_count": 4,
     "metadata": {},
     "output_type": "execute_result"
    }
   ],
   "source": [
    "# Concatenate all the dataframes into one\n",
    "betting_data = pd.concat(dataframes, ignore_index=True)\n",
    "\n",
    "# Display the first few rows of the combined dataframe\n",
    "betting_data.head()"
   ]
  },
  {
   "cell_type": "markdown",
   "id": "a17c14cd",
   "metadata": {},
   "source": [
    "## Preprocess dataset:"
   ]
  },
  {
   "cell_type": "code",
   "execution_count": 5,
   "id": "a5960192",
   "metadata": {},
   "outputs": [],
   "source": [
    "# Convert WRank and LRank to numeric, coercing errors\n",
    "betting_data['WRank'] = pd.to_numeric(betting_data['WRank'], errors='coerce')\n",
    "betting_data['LRank'] = pd.to_numeric(betting_data['LRank'], errors='coerce')\n",
    "\n",
    "# Fill NaN values in WRank and LRank with a high number to represent unranked players\n",
    "betting_data['WRank'].fillna(100000, inplace=True)\n",
    "betting_data['LRank'].fillna(100000, inplace=True)\n",
    "\n",
    "# Create a new column 'higher_rank_won' where 1 indicates the higher-ranked player won, and 0 otherwise\n",
    "betting_data['higher_rank_won'] = (betting_data['WRank'] < betting_data['LRank']).astype(int)\n",
    "\n",
    "# Filter the betting_data to include only rows where the match status is 'Completed'\n",
    "betting_data = betting_data.loc[betting_data['Comment'] == 'Completed']"
   ]
  },
  {
   "cell_type": "markdown",
   "id": "53c19696",
   "metadata": {},
   "source": [
    "## Split the dataset:"
   ]
  },
  {
   "cell_type": "code",
   "execution_count": 6,
   "id": "d4e94065",
   "metadata": {},
   "outputs": [],
   "source": [
    "# Convert 'tourney_date' to datetime format \n",
    "betting_data['Date'] = pd.to_datetime(betting_data['Date'], format='%Y-%m-%d')\n",
    "\n",
    "# Define the split date for January 1, 2019\n",
    "split_time = pd.to_datetime('2019-01-01', format='%Y-%m-%d')"
   ]
  },
  {
   "cell_type": "code",
   "execution_count": 7,
   "id": "bc7c7e03",
   "metadata": {},
   "outputs": [],
   "source": [
    "# Splitting the dataset into training and validation (test) sets\n",
    "betting_data_train = betting_data[betting_data['Date'] < split_time]\n",
    "betting_data_test = betting_data[betting_data['Date'] >= split_time]"
   ]
  },
  {
   "cell_type": "markdown",
   "id": "77340932",
   "metadata": {},
   "source": [
    "## Naive Model:"
   ]
  },
  {
   "cell_type": "markdown",
   "id": "770889cb",
   "metadata": {},
   "source": [
    "## Function Definitions and Setup:"
   ]
  },
  {
   "cell_type": "code",
   "execution_count": 8,
   "id": "a2140f51",
   "metadata": {},
   "outputs": [],
   "source": [
    "def calculate_metrics(betting_data, naive_accuracy=True, train_accuracy=None):\n",
    "    \"\"\"\n",
    "    Calculate metrics (naive accuracy, log loss, and calibration) for the dataset.\n",
    "    \n",
    "    Parameters:\n",
    "    betting_data (pd.DataFrame): A DataFrame containing the dataset.\n",
    "    naive_accuracy (bool): If True, calculate naive accuracy for the provided dataset.\n",
    "                           If False, use the accuracy provided in `train_accuracy` for calibration.\n",
    "    train_accuracy (float): The accuracy from the training set to be used for calibration.\n",
    "                            Required if `naive_accuracy` is False.\n",
    "\n",
    "    Returns:\n",
    "    float: Naive accuracy (only if naive_accuracy=True).\n",
    "    float: Log loss for the dataset.\n",
    "    float: Calibration for the dataset.\n",
    "    \"\"\"\n",
    "    # Number of observations\n",
    "    N = len(betting_data)\n",
    "    w = betting_data['higher_rank_won']\n",
    "\n",
    "    if naive_accuracy:\n",
    "        # Calculate naive accuracy\n",
    "        accuracy_naive = w.mean()\n",
    "        # Calculate log loss\n",
    "        log_loss_naive = -1 / N * np.sum(w * np.log(accuracy_naive) + (1 - w) * np.log(1 - accuracy_naive))\n",
    "        # Calculate calibration\n",
    "        calibration_naive = accuracy_naive * N / np.sum(w)\n",
    "        return accuracy_naive, log_loss_naive, calibration_naive\n",
    "    else:\n",
    "        if train_accuracy is None:\n",
    "            raise ValueError(\"train_accuracy must be provided when naive_accuracy is set to False.\")\n",
    "        \n",
    "        # Calculate naive accuracy\n",
    "        accuracy_naive = w.mean()\n",
    "        # Calculate log loss\n",
    "        log_loss_naive = -1 / N * np.sum(w * np.log(accuracy_naive) + (1 - w) * np.log(1 - accuracy_naive))\n",
    "        # Calculate calibration\n",
    "        calibration_naive = train_accuracy * N / np.sum(w)\n",
    "        return accuracy_naive, log_loss_naive, calibration_naive"
   ]
  },
  {
   "cell_type": "code",
   "execution_count": 9,
   "id": "348995a3",
   "metadata": {},
   "outputs": [],
   "source": [
    "def calculate_naive_metrics(betting_data, naive_accuracy=True):\n",
    "    \"\"\"\n",
    "    Calculate naive accuracy, log loss, and calibration on the entire dataset.\n",
    "\n",
    "    Parameters:\n",
    "    betting_data (pd.DataFrame): A DataFrame containing the dataset.\n",
    "\n",
    "    Returns:\n",
    "    naive_accuracy (float): The naive accuracy of the dataset.\n",
    "    log_loss_naive (float): The log loss for the naive model.\n",
    "    calibration_naive (float): The calibration for the naive model.\n",
    "    \"\"\"\n",
    "    # Calculate naive accuracy\n",
    "    N = len(betting_data)\n",
    "    naive_accuracy = betting_data['higher_rank_won'].mean()\n",
    "    w = betting_data['higher_rank_won']\n",
    "    pi_naive = naive_accuracy\n",
    "\n",
    "    # Calculate log loss\n",
    "    log_loss_naive = -1 / N * np.sum(w * np.log(pi_naive) + (1 - w) * np.log(1 - pi_naive))\n",
    "\n",
    "    # Calculate calibration\n",
    "    calibration_naive = pi_naive * N / np.sum(w)\n",
    "\n",
    "    # Return the results\n",
    "    return naive_accuracy, log_loss_naive, calibration_naive"
   ]
  },
  {
   "cell_type": "markdown",
   "id": "f71daf63",
   "metadata": {},
   "source": [
    "## Naive Model - Training dataset:"
   ]
  },
  {
   "cell_type": "code",
   "execution_count": 10,
   "id": "84cf713c",
   "metadata": {},
   "outputs": [
    {
     "data": {
      "text/html": [
       "<div>\n",
       "<style scoped>\n",
       "    .dataframe tbody tr th:only-of-type {\n",
       "        vertical-align: middle;\n",
       "    }\n",
       "\n",
       "    .dataframe tbody tr th {\n",
       "        vertical-align: top;\n",
       "    }\n",
       "\n",
       "    .dataframe thead th {\n",
       "        text-align: right;\n",
       "    }\n",
       "</style>\n",
       "<table border=\"1\" class=\"dataframe\">\n",
       "  <thead>\n",
       "    <tr style=\"text-align: right;\">\n",
       "      <th></th>\n",
       "      <th>Model</th>\n",
       "      <th>Accuracy</th>\n",
       "      <th>Log_Loss</th>\n",
       "      <th>Calibration</th>\n",
       "    </tr>\n",
       "  </thead>\n",
       "  <tbody>\n",
       "    <tr>\n",
       "      <th>0</th>\n",
       "      <td>Naive_Train</td>\n",
       "      <td>0.668079</td>\n",
       "      <td>0.63553</td>\n",
       "      <td>1.0</td>\n",
       "    </tr>\n",
       "  </tbody>\n",
       "</table>\n",
       "</div>"
      ],
      "text/plain": [
       "         Model  Accuracy  Log_Loss  Calibration\n",
       "0  Naive_Train  0.668079   0.63553          1.0"
      ]
     },
     "execution_count": 10,
     "metadata": {},
     "output_type": "execute_result"
    }
   ],
   "source": [
    "# Calculate metrics for the training set\n",
    "naive_accuracy_train, log_loss_naive_train, calibration_naive_train = calculate_metrics(betting_data_train, naive_accuracy=True)\n",
    "\n",
    "# Store the results\n",
    "validation_stats_train = pd.DataFrame({\n",
    "    'Model': ['Naive_Train'],\n",
    "    'Accuracy': [naive_accuracy_train],\n",
    "    'Log_Loss': [log_loss_naive_train],\n",
    "    'Calibration': [calibration_naive_train]\n",
    "})\n",
    "\n",
    "validation_stats_train"
   ]
  },
  {
   "cell_type": "markdown",
   "id": "036cb084",
   "metadata": {},
   "source": [
    "## Naive Model - Validation dataset:"
   ]
  },
  {
   "cell_type": "code",
   "execution_count": 11,
   "id": "a83d9dfa",
   "metadata": {},
   "outputs": [
    {
     "data": {
      "text/html": [
       "<div>\n",
       "<style scoped>\n",
       "    .dataframe tbody tr th:only-of-type {\n",
       "        vertical-align: middle;\n",
       "    }\n",
       "\n",
       "    .dataframe tbody tr th {\n",
       "        vertical-align: top;\n",
       "    }\n",
       "\n",
       "    .dataframe thead th {\n",
       "        text-align: right;\n",
       "    }\n",
       "</style>\n",
       "<table border=\"1\" class=\"dataframe\">\n",
       "  <thead>\n",
       "    <tr style=\"text-align: right;\">\n",
       "      <th></th>\n",
       "      <th>Model</th>\n",
       "      <th>Accuracy</th>\n",
       "      <th>Log_Loss</th>\n",
       "      <th>Calibration</th>\n",
       "    </tr>\n",
       "  </thead>\n",
       "  <tbody>\n",
       "    <tr>\n",
       "      <th>0</th>\n",
       "      <td>Naiv_Test</td>\n",
       "      <td>0.613609</td>\n",
       "      <td>0.667106</td>\n",
       "      <td>1.08877</td>\n",
       "    </tr>\n",
       "  </tbody>\n",
       "</table>\n",
       "</div>"
      ],
      "text/plain": [
       "       Model  Accuracy  Log_Loss  Calibration\n",
       "0  Naiv_Test  0.613609  0.667106      1.08877"
      ]
     },
     "execution_count": 11,
     "metadata": {},
     "output_type": "execute_result"
    }
   ],
   "source": [
    "# Calculate metrics for the testing set\n",
    "naive_accuracy_test, log_loss_naive_test, calibration_naive_test = calculate_metrics(betting_data_test, naive_accuracy=False, train_accuracy=naive_accuracy_train)\n",
    "\n",
    "# Store the results\n",
    "validation_stats_test = pd.DataFrame({\n",
    "    'Model': ['Naiv_Test'],\n",
    "    'Accuracy': [naive_accuracy_test],\n",
    "    'Log_Loss': [log_loss_naive_test],\n",
    "    'Calibration': [calibration_naive_test]\n",
    "})\n",
    "\n",
    "validation_stats_test"
   ]
  },
  {
   "cell_type": "markdown",
   "id": "a89e4ff2",
   "metadata": {},
   "source": [
    "## Filtering Top 50 and Top 100 Ranking players from the dataset"
   ]
  },
  {
   "cell_type": "code",
   "execution_count": 12,
   "id": "54b61295",
   "metadata": {},
   "outputs": [],
   "source": [
    "# Load your dataset\n",
    "df = betting_data_test\n",
    "\n",
    "# Define function to filter dataset for top N players\n",
    "def filter_top_players(df, top_n):\n",
    "    df_top = df[(df['WRank'] <= top_n) | (df['LRank'] <= top_n)]\n",
    "    return df_top\n",
    "\n",
    "# Filter the dataset for top 50 and top 100 players\n",
    "df_top_50 = filter_top_players(df, 50)\n",
    "df_top_100 = filter_top_players(df, 100)"
   ]
  },
  {
   "cell_type": "code",
   "execution_count": 13,
   "id": "e734f3cb",
   "metadata": {},
   "outputs": [],
   "source": [
    "# Calculate metrics for top 50 players\n",
    "top_50_accuracy, top_50_log_loss, top_50_calibration = calculate_metrics(df_top_50, naive_accuracy=False, train_accuracy=naive_accuracy_train)"
   ]
  },
  {
   "cell_type": "code",
   "execution_count": 14,
   "id": "9f984a8e",
   "metadata": {},
   "outputs": [],
   "source": [
    "# Calculate metrics for top 100 players\n",
    "top_100_accuracy, top_100_log_loss, top_100_calibration = calculate_metrics(df_top_100, naive_accuracy=False, train_accuracy=naive_accuracy_train)"
   ]
  },
  {
   "cell_type": "markdown",
   "id": "24c2e02d",
   "metadata": {},
   "source": [
    "## Metrics - Top 50 & Top 100:"
   ]
  },
  {
   "cell_type": "code",
   "execution_count": 15,
   "id": "4ae876af",
   "metadata": {},
   "outputs": [
    {
     "data": {
      "text/html": [
       "<div>\n",
       "<style scoped>\n",
       "    .dataframe tbody tr th:only-of-type {\n",
       "        vertical-align: middle;\n",
       "    }\n",
       "\n",
       "    .dataframe tbody tr th {\n",
       "        vertical-align: top;\n",
       "    }\n",
       "\n",
       "    .dataframe thead th {\n",
       "        text-align: right;\n",
       "    }\n",
       "</style>\n",
       "<table border=\"1\" class=\"dataframe\">\n",
       "  <thead>\n",
       "    <tr style=\"text-align: right;\">\n",
       "      <th></th>\n",
       "      <th>Model</th>\n",
       "      <th>Accuracy</th>\n",
       "      <th>Log_Loss</th>\n",
       "      <th>Calibration</th>\n",
       "    </tr>\n",
       "  </thead>\n",
       "  <tbody>\n",
       "    <tr>\n",
       "      <th>0</th>\n",
       "      <td>Naive_Test</td>\n",
       "      <td>0.613609</td>\n",
       "      <td>0.667106</td>\n",
       "      <td>1.088770</td>\n",
       "    </tr>\n",
       "    <tr>\n",
       "      <th>1</th>\n",
       "      <td>Naive_Top_50</td>\n",
       "      <td>0.636467</td>\n",
       "      <td>0.655424</td>\n",
       "      <td>1.049669</td>\n",
       "    </tr>\n",
       "    <tr>\n",
       "      <th>2</th>\n",
       "      <td>Naive_Top_100</td>\n",
       "      <td>0.614713</td>\n",
       "      <td>0.666593</td>\n",
       "      <td>1.086815</td>\n",
       "    </tr>\n",
       "  </tbody>\n",
       "</table>\n",
       "</div>"
      ],
      "text/plain": [
       "           Model  Accuracy  Log_Loss  Calibration\n",
       "0     Naive_Test  0.613609  0.667106     1.088770\n",
       "1   Naive_Top_50  0.636467  0.655424     1.049669\n",
       "2  Naive_Top_100  0.614713  0.666593     1.086815"
      ]
     },
     "execution_count": 15,
     "metadata": {},
     "output_type": "execute_result"
    }
   ],
   "source": [
    "# Store the results for the testing set, top 50, and top 100\n",
    "validation_stats_test = pd.DataFrame({\n",
    "    'Model': ['Naive_Test', 'Naive_Top_50', 'Naive_Top_100'],\n",
    "    'Accuracy': [naive_accuracy_test, top_50_accuracy, top_100_accuracy],\n",
    "    'Log_Loss': [log_loss_naive_test, top_50_log_loss, top_100_log_loss],\n",
    "    'Calibration': [calibration_naive_test, top_50_calibration, top_100_calibration]\n",
    "})\n",
    "\n",
    "validation_stats_test"
   ]
  }
 ],
 "metadata": {
  "kernelspec": {
   "display_name": "Python 3 (ipykernel)",
   "language": "python",
   "name": "python3"
  },
  "language_info": {
   "codemirror_mode": {
    "name": "ipython",
    "version": 3
   },
   "file_extension": ".py",
   "mimetype": "text/x-python",
   "name": "python",
   "nbconvert_exporter": "python",
   "pygments_lexer": "ipython3",
   "version": "3.9.12"
  }
 },
 "nbformat": 4,
 "nbformat_minor": 5
}
