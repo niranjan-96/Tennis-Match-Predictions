{
 "cells": [
  {
   "cell_type": "markdown",
   "id": "84c4d339",
   "metadata": {},
   "source": [
    "## Import Libraries:"
   ]
  },
  {
   "cell_type": "code",
   "execution_count": 1,
   "id": "1bbef362",
   "metadata": {},
   "outputs": [],
   "source": [
    "import warnings\n",
    "import numpy as np  # For numerical operations\n",
    "import pandas as pd  # For data manipulation and analysis\n",
    "import os  # For interacting with the operating system\n",
    "import matplotlib.pyplot as plt  # For plotting graphs\n",
    "from sklearn.model_selection import ParameterGrid  # For generating parameter grid for hyperparameter tuning\n",
    "from sklearn.metrics import log_loss  # For calculating log loss metric\n",
    "from itertools import product  # For creating Cartesian products of iterables\n",
    "from mpl_toolkits.mplot3d import Axes3D  # For 3D plotting\n",
    "\n",
    "# Suppress specific UserWarnings from the 'openpyxl' module to prevent cluttering the output\n",
    "warnings.filterwarnings(\"ignore\", category=UserWarning, module='openpyxl')"
   ]
  },
  {
   "cell_type": "markdown",
   "id": "4e2e1ddd",
   "metadata": {
    "id": "84c4d339"
   },
   "source": [
    "## Load the data:"
   ]
  },
  {
   "cell_type": "code",
   "execution_count": 2,
   "id": "cfce1197",
   "metadata": {
    "id": "cfce1197"
   },
   "outputs": [],
   "source": [
    "# Define the directory where your files are located\n",
    "# data_dir = '.'  \n",
    "data_dir = os.path.join(os.path.pardir) \n",
    "\n",
    "# List to hold the dataframes\n",
    "dataframes = []\n",
    "\n",
    "# Loop through the years and load the files\n",
    "for year in range(2005, 2020):\n",
    "    if year <= 2012:\n",
    "        file_path = os.path.join(data_dir, f'{year}.xls')\n",
    "    else:\n",
    "        file_path = os.path.join(data_dir, f'{year}.xlsx')\n",
    "\n",
    "    # Load the file into a dataframe\n",
    "    df = pd.read_excel(file_path)\n",
    "\n",
    "    # Append the dataframe to the list\n",
    "    dataframes.append(df)\n",
    "\n",
    "# Concatenate all the dataframes into one\n",
    "betting_data = pd.concat(dataframes, ignore_index=True)"
   ]
  },
  {
   "cell_type": "markdown",
   "id": "8d76c52a",
   "metadata": {
    "id": "8d76c52a"
   },
   "source": [
    "## Fixing Anomalies:"
   ]
  },
  {
   "cell_type": "code",
   "execution_count": 3,
   "id": "e95229fb",
   "metadata": {
    "colab": {
     "base_uri": "https://localhost:8080/"
    },
    "id": "c86bd727",
    "outputId": "1e4a1f1e-5d08-4885-aeb8-44aae1a1d6e3"
   },
   "outputs": [],
   "source": [
    "def is_column_numeric(df, column_name):\n",
    "    # Check if the column contains only numeric values\n",
    "    return df[column_name].apply(lambda x: str(x).isnumeric()).all()"
   ]
  },
  {
   "cell_type": "code",
   "execution_count": 4,
   "id": "2a19dd6c",
   "metadata": {
    "colab": {
     "base_uri": "https://localhost:8080/"
    },
    "id": "c86bd727",
    "outputId": "1e4a1f1e-5d08-4885-aeb8-44aae1a1d6e3"
   },
   "outputs": [
    {
     "name": "stdout",
     "output_type": "stream",
     "text": [
      "Column 'WRank' is not numeric.\n",
      "\n",
      "Column 'LRank' is not numeric.\n",
      "\n",
      "Column 'EXW' is not numeric.\n",
      "\n"
     ]
    }
   ],
   "source": [
    "# Check if columns are numeric before converting\n",
    "anomaly_column = ['WRank', 'LRank', 'EXW']\n",
    "for column in anomaly_column:\n",
    "    if is_column_numeric(betting_data, column):\n",
    "        print(f\"Column '{column}' is numeric.\\n\")\n",
    "    else:\n",
    "        print(f\"Column '{column}' is not numeric.\\n\")"
   ]
  },
  {
   "cell_type": "code",
   "execution_count": 5,
   "id": "da260554",
   "metadata": {
    "colab": {
     "base_uri": "https://localhost:8080/"
    },
    "id": "c86bd727",
    "outputId": "1e4a1f1e-5d08-4885-aeb8-44aae1a1d6e3"
   },
   "outputs": [],
   "source": [
    "def find_non_numeric_values(df, column_name):\n",
    "    # Function to check if a value is numeric\n",
    "    def is_numeric(value):\n",
    "        try:\n",
    "            float(value)\n",
    "            return True\n",
    "        except ValueError:\n",
    "            return False\n",
    "\n",
    "    # Apply the function to the column and filter non-numeric values\n",
    "    non_numeric_values = df[~df[column_name].apply(is_numeric)]\n",
    "\n",
    "    # Display the non-numeric values\n",
    "    print(f\"Non-numeric values in {column_name}:\")\n",
    "    print(non_numeric_values[[column_name]], \"\\n\")\n",
    "    print()"
   ]
  },
  {
   "cell_type": "code",
   "execution_count": 6,
   "id": "94766cbb",
   "metadata": {
    "colab": {
     "base_uri": "https://localhost:8080/"
    },
    "id": "c86bd727",
    "outputId": "1e4a1f1e-5d08-4885-aeb8-44aae1a1d6e3"
   },
   "outputs": [
    {
     "name": "stdout",
     "output_type": "stream",
     "text": [
      "Non-numeric values in WRank:\n",
      "Empty DataFrame\n",
      "Columns: [WRank]\n",
      "Index: [] \n",
      "\n",
      "\n"
     ]
    }
   ],
   "source": [
    "# WRank column\n",
    "find_non_numeric_values(betting_data, 'WRank')"
   ]
  },
  {
   "cell_type": "code",
   "execution_count": 7,
   "id": "ca95f974",
   "metadata": {
    "colab": {
     "base_uri": "https://localhost:8080/"
    },
    "id": "c86bd727",
    "outputId": "1e4a1f1e-5d08-4885-aeb8-44aae1a1d6e3"
   },
   "outputs": [
    {
     "name": "stdout",
     "output_type": "stream",
     "text": [
      "Non-numeric values in LRank:\n",
      "Empty DataFrame\n",
      "Columns: [LRank]\n",
      "Index: [] \n",
      "\n",
      "\n"
     ]
    }
   ],
   "source": [
    "# LRank column\n",
    "find_non_numeric_values(betting_data, 'LRank')"
   ]
  },
  {
   "cell_type": "code",
   "execution_count": 8,
   "id": "c86bd727",
   "metadata": {
    "colab": {
     "base_uri": "https://localhost:8080/"
    },
    "id": "c86bd727",
    "outputId": "1e4a1f1e-5d08-4885-aeb8-44aae1a1d6e3"
   },
   "outputs": [
    {
     "name": "stdout",
     "output_type": "stream",
     "text": [
      "Non-numeric values in EXW:\n",
      "        EXW\n",
      "23776  2.,3 \n",
      "\n",
      "\n"
     ]
    }
   ],
   "source": [
    "# EXW column\n",
    "find_non_numeric_values(betting_data, 'EXW')"
   ]
  },
  {
   "cell_type": "code",
   "execution_count": 9,
   "id": "863a57ee",
   "metadata": {
    "id": "863a57ee"
   },
   "outputs": [],
   "source": [
    "# Convert WRank and LRank to numeric, coercing errors\n",
    "betting_data['WRank'] = pd.to_numeric(betting_data['WRank'], errors='coerce')\n",
    "betting_data['LRank'] = pd.to_numeric(betting_data['LRank'], errors='coerce')\n",
    "\n",
    "# Fill NaN values with a high number\n",
    "betting_data['WRank'].fillna(100000, inplace=True)\n",
    "betting_data['LRank'].fillna(100000, inplace=True)\n",
    "\n",
    "\n",
    "# Correct the typo in row 38294, column 'EXW'\n",
    "if betting_data.at[38294, 'EXW'] == '2.,3':\n",
    "    betting_data.at[38294, 'EXW'] = '2.3'"
   ]
  },
  {
   "cell_type": "markdown",
   "id": "44f8d932",
   "metadata": {},
   "source": [
    "## Preprocess Dataset:"
   ]
  },
  {
   "cell_type": "code",
   "execution_count": 10,
   "id": "bb41ea92",
   "metadata": {
    "id": "bb41ea92"
   },
   "outputs": [],
   "source": [
    "# Calculate whether the higher-ranked player won the match (1 if higher-ranked player won, 0 otherwise)\n",
    "betting_data['higher_rank_won'] = (betting_data['WRank'] < betting_data['LRank']).astype(int)\n",
    "\n",
    "# Calculate points for the higher-ranked player based on the match outcome\n",
    "betting_data['higher_rank_points'] = (\n",
    "    betting_data['higher_rank_won'] * betting_data['WPts'] + \n",
    "    betting_data['LPts'] * (1 - betting_data['higher_rank_won'])\n",
    ")\n",
    "\n",
    "# Calculate points for the lower-ranked player based on the match outcome\n",
    "betting_data['lower_rank_points'] = (\n",
    "    (1 - betting_data['higher_rank_won']) * betting_data['WPts'] + \n",
    "    betting_data['LPts'] * betting_data['higher_rank_won']\n",
    ")\n",
    "\n",
    "# Fill any missing values in 'higher_rank_points' with 0 to ensure consistency\n",
    "betting_data['higher_rank_points'].fillna(0, inplace=True)\n",
    "\n",
    "# Fill any missing values in 'lower_rank_points' with 0 to ensure consistency\n",
    "betting_data['lower_rank_points'].fillna(0, inplace=True)\n",
    "\n",
    "# Filter the DataFrame to include only rows where the match status is 'Completed'\n",
    "# This ensures that only fully played matches are considered in the analysis\n",
    "betting_data = betting_data.loc[betting_data['Comment'] == 'Completed']\n",
    "\n",
    "# Create a copy of the betting data for further analysis and processing\n",
    "all_matches_538 = betting_data.copy()\n",
    "\n",
    "# Define a list of columns to drop from the dataset to focus on essential features\n",
    "columns_to_drop = [\n",
    "    'W1', 'L1', 'W2', 'L2', 'W3', 'L3', 'W4', 'L4', 'W5', 'L5', 'Wsets', 'Lsets', 'Comment',\n",
    "    'CBW', 'CBL', 'IWW', 'IWL', 'B365W', 'B365L', \n",
    "    'EXW', 'EXL', 'PSW', 'PSL', 'WPts', 'LPts', 'UBW', 'UBL', 'LBW', 'LBL', 'SJW', 'SJL',\n",
    "    'MaxW', 'MaxL', 'AvgW', 'AvgL'\n",
    "]\n",
    "\n",
    "# Drop the unnecessary columns from the dataset to simplify analysis\n",
    "all_matches_538 = all_matches_538.drop(columns=columns_to_drop)"
   ]
  },
  {
   "cell_type": "markdown",
   "id": "21878f11",
   "metadata": {
    "id": "21878f11"
   },
   "source": [
    "## ELO Setup:"
   ]
  },
  {
   "cell_type": "markdown",
   "id": "uEN71jL7ca6h",
   "metadata": {
    "id": "uEN71jL7ca6h"
   },
   "source": [
    "## Model Simulation:"
   ]
  },
  {
   "cell_type": "code",
   "execution_count": 11,
   "id": "S8mQU8UbcmjF",
   "metadata": {
    "colab": {
     "base_uri": "https://localhost:8080/",
     "height": 685
    },
    "id": "S8mQU8UbcmjF",
    "outputId": "60668d55-05f4-4edf-879f-13ef799f9934"
   },
   "outputs": [
    {
     "data": {
      "image/png": "[encoded data removed]",
      "text/plain": [
       "<Figure size 1008x576 with 1 Axes>"
      ]
     },
     "metadata": {
      "needs_background": "light"
     },
     "output_type": "display_data"
    }
   ],
   "source": [
    "# Define the parameter grid for the FiveThirtyEight model\n",
    "param_grid = {\n",
    "    'delta': [50, 100, 150, 400],\n",
    "    'nu': [1, 5, 10],\n",
    "    'sigma': [0.05, 0.1, 0.15]\n",
    "}\n",
    "\n",
    "# Sequence of matches\n",
    "m = np.arange(1, 10001)\n",
    "\n",
    "# Initialize a DataFrame to store results\n",
    "results = []\n",
    "\n",
    "# Iterate over all parameter combinations\n",
    "for delta, nu, sigma in product(param_grid['delta'], param_grid['nu'], param_grid['sigma']):\n",
    "    # Calculate K values for FiveThirtyEight model\n",
    "    K_FTE = delta / (m + nu) ** sigma\n",
    "\n",
    "    # Store results in a DataFrame\n",
    "    df = pd.DataFrame({\n",
    "        'm': m,\n",
    "        'K_FTE': K_FTE,\n",
    "        'delta': delta,\n",
    "        'nu': nu,\n",
    "        'sigma': sigma\n",
    "    })\n",
    "    results.append(df)\n",
    "\n",
    "# Concatenate all results into a single DataFrame\n",
    "all_results = pd.concat(results)\n",
    "\n",
    "# Plot the K values for different parameter combinations\n",
    "plt.figure(figsize=(14, 8))\n",
    "for (delta, nu, sigma), group in all_results.groupby(['delta', 'nu', 'sigma']):\n",
    "    label = f'delta={delta}, nu={nu}, sigma={sigma}'\n",
    "    plt.plot(group['m'], group['K_FTE'], label=label)\n",
    "\n",
    "plt.xlabel('Number of Matches (m)')\n",
    "plt.ylabel('K Value')\n",
    "plt.title('K Value Dynamics over Number of Matches')\n",
    "plt.legend(loc='center left', bbox_to_anchor=(1, 0.5), title=\"Parameters\")\n",
    "plt.grid(True)\n",
    "plt.tight_layout()\n",
    "plt.show()"
   ]
  },
  {
   "cell_type": "markdown",
   "id": "f6ace3b1",
   "metadata": {
    "id": "f6ace3b1"
   },
   "source": [
    "## Grid Search Optimization for the 538 Elo Model:"
   ]
  },
  {
   "cell_type": "markdown",
   "id": "73d9afb3",
   "metadata": {},
   "source": [
    "## Function Definitions and Setup:"
   ]
  },
  {
   "cell_type": "code",
   "execution_count": 12,
   "id": "614d03a9",
   "metadata": {
    "id": "02711766"
   },
   "outputs": [],
   "source": [
    "def win_probability(E_i, E_j):\n",
    "    \"\"\"\n",
    "    Calculate the probability of Player i winning against Player j based on their ratings.\n",
    "\n",
    "    Parameters:\n",
    "    E_i (float): The rating of Player i.\n",
    "    E_j (float): The rating of Player j.\n",
    "\n",
    "    Returns:\n",
    "    float: The probability of Player i winning.\n",
    "    \"\"\"\n",
    "    # Calculate and return the win probability using the Elo rating formula\n",
    "    return 1 / (1 + 10 ** ((E_j - E_i) / 400))"
   ]
  },
  {
   "cell_type": "code",
   "execution_count": 13,
   "id": "86e1007c",
   "metadata": {
    "id": "02711766"
   },
   "outputs": [],
   "source": [
    "def get_player_elo(player_name):\n",
    "    \"\"\"\n",
    "    Retrieve the Elo rating of a player. If the player is not in the Elo dictionary,\n",
    "    assign them an initial Elo rating.\n",
    "\n",
    "    Parameters:\n",
    "    player_name (str): The name of the player.\n",
    "\n",
    "    Returns:\n",
    "    float: The Elo rating of the player.\n",
    "    \"\"\"\n",
    "    # Check if the player is in the dictionary of Elo ratings\n",
    "    if player_name not in players_elo:\n",
    "        # If the player is not found, assign them the initial Elo rating\n",
    "        players_elo[player_name] = initial_elo\n",
    "        \n",
    "    # Return the player's Elo rating    \n",
    "    return players_elo[player_name]"
   ]
  },
  {
   "cell_type": "code",
   "execution_count": 14,
   "id": "1b44508c",
   "metadata": {
    "id": "02711766"
   },
   "outputs": [],
   "source": [
    "def set_player_elo(player_name, elo):\n",
    "    \"\"\"\n",
    "    Set the Elo rating for a specific player.\n",
    "\n",
    "    Parameters:\n",
    "    player_name (str): The name of the player.\n",
    "    elo (float): The new Elo rating to be assigned to the player.\n",
    "    \"\"\"\n",
    "    # Assign the given Elo rating to the specified player in the players_elo dictionary\n",
    "    players_elo[player_name] = elo"
   ]
  },
  {
   "cell_type": "code",
   "execution_count": 15,
   "id": "72de1048",
   "metadata": {},
   "outputs": [],
   "source": [
    "def get_games_played(player_name):\n",
    "    \"\"\"\n",
    "    Retrieve the number of games played by a player. If the player is not in the dictionary,\n",
    "    initialize their games played count to 0.\n",
    "\n",
    "    Parameters:\n",
    "    player_name (str): The name of the player.\n",
    "\n",
    "    Returns:\n",
    "    int: The number of games the player has played.\n",
    "    \"\"\"\n",
    "    # Check if the player is in the dictionary tracking games played\n",
    "    if player_name not in players_games_played:\n",
    "        # If the player is not found, initialize their games played count to 0\n",
    "        players_games_played[player_name] = 0\n",
    "    \n",
    "    # Return the number of games the player has played\n",
    "    return players_games_played[player_name]"
   ]
  },
  {
   "cell_type": "code",
   "execution_count": 16,
   "id": "3efd4e4d",
   "metadata": {},
   "outputs": [],
   "source": [
    "def increment_games_played(player_name):\n",
    "    \"\"\"\n",
    "    Increment the number of games played by a player by 1. If the player is not in the\n",
    "    dictionary, initialize their games played count to 1.\n",
    "\n",
    "    Parameters:\n",
    "    player_name (str): The name of the player whose games played count is to be incremented.\n",
    "\n",
    "    Returns:\n",
    "    None: The function updates the dictionary in place.\n",
    "    \"\"\"\n",
    "    # Increment the games played count for the player by 1.\n",
    "    # If the player is not in the dictionary, initialize their count to 1.\n",
    "    players_games_played[player_name] = players_games_played.get(player_name, 0) + 1\n"
   ]
  },
  {
   "cell_type": "code",
   "execution_count": 17,
   "id": "8dab17d7",
   "metadata": {},
   "outputs": [],
   "source": [
    "def update_elo_538(E_i, E_j, outcome, games_played_i):\n",
    "    \"\"\"\n",
    "    Update the Elo rating for a player using the 538 method, which adjusts the K-factor\n",
    "    based on the number of games the player has played.\n",
    "\n",
    "    Parameters:\n",
    "    E_i (float): The current Elo rating of player i.\n",
    "    E_j (float): The Elo rating of the opponent, player j.\n",
    "    outcome (str): The outcome of the match for player i. Should be 'win' or 'loss'.\n",
    "    games_played_i (int): The number of games player i has played.\n",
    "\n",
    "    Returns:\n",
    "    float: The updated Elo rating of player i.\n",
    "    \"\"\"\n",
    "    # Calculate the K-factor based on the number of games player i has played.\n",
    "    K = 100 / (games_played_i + 10) ** 0.15\n",
    "    \n",
    "    # Calculate the win probability for player i against player j.\n",
    "    pi_j = win_probability(E_i, E_j)\n",
    "    \n",
    "    if outcome == 'win':\n",
    "        # Calculate Elo rating change for a win.\n",
    "        delta_E_i = K * (1 - pi_j)\n",
    "        new_E_i = E_i + delta_E_i\n",
    "    \n",
    "    elif outcome == 'loss':\n",
    "        # Calculate Elo rating change for a loss.\n",
    "        delta_E_i = K * (pi_j - 1)\n",
    "        new_E_i = E_j + delta_E_i\n",
    "    \n",
    "    else:\n",
    "        # Raise an error if the outcome is neither 'win' nor 'loss'.\n",
    "        raise ValueError(\"Outcome must be 'win' or 'loss'\")\n",
    "    \n",
    "    # Return the updated Elo rating for player i.\n",
    "    return new_E_i"
   ]
  },
  {
   "cell_type": "code",
   "execution_count": 18,
   "id": "b06a5869",
   "metadata": {
    "colab": {
     "base_uri": "https://localhost:8080/"
    },
    "id": "c19228f1",
    "outputId": "f51a2b59-9806-48f1-fb95-18127e2bda8a"
   },
   "outputs": [],
   "source": [
    "def evaluate_model(df):\n",
    "    \"\"\"\n",
    "    Evaluate the performance of a model by calculating log loss, accuracy, and calibration.\n",
    "\n",
    "    Parameters:\n",
    "    df (pandas.DataFrame): DataFrame containing the actual outcomes and predicted probabilities.\n",
    "                           Expected columns:\n",
    "                           - 'higher_rank_won': Actual outcome (1 if higher-ranked player won, 0 otherwise).\n",
    "                           - 'prob_high_ranked': Predicted probability of the higher-ranked player winning.\n",
    "                           - 'match_outcome': Actual match outcome (can be used to calculate accuracy).\n",
    "\n",
    "    Returns:\n",
    "    tuple: A tuple containing:\n",
    "           - logloss_value (float): The log loss of the predictions.\n",
    "           - accuracy_value (float): The accuracy of the model.\n",
    "           - calibration_value (float): The calibration metric for the predictions.\n",
    "    \"\"\"\n",
    "    # Calculate log loss between the actual outcomes and predicted probabilities\n",
    "    logloss_value = log_loss(df.higher_rank_won, df.prob_high_ranked)\n",
    "    \n",
    "    # Calculate accuracy by comparing predicted match outcome with the actual outcome\n",
    "    accuracy_value = np.mean(df.match_outcome == df.higher_rank_won)\n",
    "    \n",
    "    # Calculate calibration by dividing the sum of predicted probabilities by the sum of actual outcomes\n",
    "    calibration_value = np.sum(df.prob_high_ranked) / np.sum(df.higher_rank_won)\n",
    "    \n",
    "    # Return the calculated metrics\n",
    "    return accuracy_value, calibration_value, logloss_value"
   ]
  },
  {
   "cell_type": "code",
   "execution_count": 19,
   "id": "4a572775",
   "metadata": {
    "colab": {
     "base_uri": "https://localhost:8080/"
    },
    "id": "c19228f1",
    "outputId": "f51a2b59-9806-48f1-fb95-18127e2bda8a"
   },
   "outputs": [],
   "source": [
    "# Initialize an empty list to store results\n",
    "results = []\n",
    "\n",
    "def update_elo_538_param(E_i, E_j, outcome, games_played_i, delta, nu, sigma):\n",
    "    \"\"\"\n",
    "    Update the Elo rating for a player using a parameterized version of the 538 method,\n",
    "    allowing for flexible adjustment of the K-factor calculation.\n",
    "\n",
    "    Parameters:\n",
    "    E_i (float): The current Elo rating of player i.\n",
    "    E_j (float): The Elo rating of the opponent, player j.\n",
    "    outcome (str): The outcome of the match for player i. Should be 'win' or 'loss'.\n",
    "    games_played_i (int): The number of games player i has played.\n",
    "    delta (float): A parameter that controls the base K-factor.\n",
    "    nu (float): A parameter that adjusts the games played factor in the K-factor formula.\n",
    "    sigma (float): A parameter that controls the scaling of the games played factor in the K-factor formula.\n",
    "\n",
    "    Returns:\n",
    "    float: The updated Elo rating of player i.\n",
    "    \"\"\"\n",
    "    # Calculate the K-factor using the provided delta, nu, and sigma parameters\n",
    "    K = delta / (games_played_i + nu) ** sigma\n",
    "    \n",
    "    # Calculate the win probability for player i against player j\n",
    "    pi_j = win_probability(E_i, E_j)\n",
    "    \n",
    "    if outcome == 'win':\n",
    "        # Calculate Elo rating change for a win\n",
    "        delta_E_i = K * (1 - pi_j)\n",
    "        new_E_i = E_i + delta_E_i\n",
    "    \n",
    "    elif outcome == 'loss':\n",
    "        # Calculate Elo rating change for a loss\n",
    "        delta_E_i = K * (pi_j - 1)\n",
    "        new_E_i = E_j + delta_E_i\n",
    "    \n",
    "    else:\n",
    "        # Raise an error if the outcome is neither 'win' nor 'loss'\n",
    "        raise ValueError(\"Outcome must be 'win' or 'loss'\")\n",
    "    \n",
    "    # Return the updated Elo rating for player i\n",
    "    return new_E_i"
   ]
  },
  {
   "cell_type": "code",
   "execution_count": 20,
   "id": "9ed5202c",
   "metadata": {
    "colab": {
     "base_uri": "https://localhost:8080/"
    },
    "id": "c19228f1",
    "outputId": "f51a2b59-9806-48f1-fb95-18127e2bda8a"
   },
   "outputs": [],
   "source": [
    "def update_elo_and_probabilities_538_param(df, delta, nu, sigma):\n",
    "    \"\"\"\n",
    "    Update the Elo ratings and win probabilities for each match in the dataset using\n",
    "    a parameterized version of the 538 method.\n",
    "\n",
    "    Parameters:\n",
    "    df (pandas.DataFrame): DataFrame containing match data. Expected columns:\n",
    "                           - 'Winner': Name of the player who won the match.\n",
    "                           - 'Loser': Name of the player who lost the match.\n",
    "                           - 'higher_rank_won': Boolean indicating if the higher-ranked player won.\n",
    "    delta (float): A parameter that controls the base K-factor.\n",
    "    nu (float): A parameter that adjusts the games played factor in the K-factor formula.\n",
    "    sigma (float): A parameter that controls the scaling of the games played factor in the K-factor formula.\n",
    "\n",
    "    Returns:\n",
    "    None: The DataFrame is modified in place with updated Elo ratings and probabilities.\n",
    "    \"\"\"\n",
    "    for index, match in df.iterrows():\n",
    "        winner_name, loser_name = match['Winner'], match['Loser']\n",
    "\n",
    "        # Retrieve current Elo ratings for both players\n",
    "        winner_elo = get_player_elo(winner_name)\n",
    "        loser_elo = get_player_elo(loser_name)\n",
    "\n",
    "        # Store initial Elo ratings in the DataFrame\n",
    "        df.at[index, 'winner_initial_elo'] = winner_elo\n",
    "        df.at[index, 'loser_initial_elo'] = loser_elo\n",
    "\n",
    "        # Get the number of games played by each player\n",
    "        games_played_winner = get_games_played(winner_name)\n",
    "        games_played_loser = get_games_played(loser_name)\n",
    "\n",
    "        # Calculate the win probability of the winner against the loser\n",
    "        df.at[index, 'prob_winner'] = win_probability(winner_elo, loser_elo)\n",
    "\n",
    "        # Determine and record the match outcome and probabilities\n",
    "        if match['higher_rank_won']:\n",
    "            # If the higher-ranked player won, record if they were expected to win\n",
    "            df.at[index, 'match_outcome'] = int(df.at[index, 'prob_winner'] > 0.5)\n",
    "            df.at[index, 'prob_high_ranked'] = df.at[index, 'prob_winner']\n",
    "        else:\n",
    "            # If the lower-ranked player won, record the probability of their victory\n",
    "            df.at[index, 'match_outcome'] = int((1 - df.at[index, 'prob_winner']) > 0.5)\n",
    "            df.at[index, 'prob_high_ranked'] = 1 - df.at[index, 'prob_winner']\n",
    "\n",
    "        # Update Elo ratings for both players\n",
    "        new_winner_elo = update_elo_538_param(winner_elo, loser_elo, 'win', games_played_winner, delta, nu, sigma)\n",
    "        new_loser_elo = update_elo_538_param(winner_elo, loser_elo, 'loss', games_played_loser, delta, nu, sigma)\n",
    "        set_player_elo(winner_name, new_winner_elo)\n",
    "        set_player_elo(loser_name, new_loser_elo)\n",
    "\n",
    "        # Store new Elo ratings in the DataFrame\n",
    "        df.at[index, 'winner_new_elo'] = new_winner_elo\n",
    "        df.at[index, 'loser_new_elo'] = new_loser_elo\n",
    "\n",
    "        # Increment the number of games played by both players\n",
    "        increment_games_played(winner_name)\n",
    "        increment_games_played(loser_name)"
   ]
  },
  {
   "cell_type": "markdown",
   "id": "016ea449",
   "metadata": {},
   "source": [
    "## Implementation of Grid Search for Parameter Tuning:"
   ]
  },
  {
   "cell_type": "code",
   "execution_count": 21,
   "id": "930273ea",
   "metadata": {
    "id": "02711766"
   },
   "outputs": [],
   "source": [
    "# ELO Setup\n",
    "initial_elo = 1500\n",
    "players_elo = {}"
   ]
  },
  {
   "cell_type": "code",
   "execution_count": 22,
   "id": "ef9a89c1",
   "metadata": {
    "id": "02711766"
   },
   "outputs": [],
   "source": [
    "# Initialize a dictionary to track the number of games played by each player\n",
    "players_games_played = {}"
   ]
  },
  {
   "cell_type": "code",
   "execution_count": 23,
   "id": "6a1eda49",
   "metadata": {
    "colab": {
     "base_uri": "https://localhost:8080/"
    },
    "id": "c19228f1",
    "outputId": "f51a2b59-9806-48f1-fb95-18127e2bda8a"
   },
   "outputs": [],
   "source": [
    "# Define the parameter grid for hyperparameter tuning\n",
    "param_grid = {\n",
    "    'delta': list(range(10, 150, 5)),  # 'delta' parameter: Values from 10 to 145 with a step of 5\n",
    "    'nu': list(range(10, 50, 5)),      # 'nu' parameter: Values from 10 to 45 with a step of 5\n",
    "    'sigma': [x / 100 for x in range(15, 55, 5)]  # 'sigma' parameter: Values from 0.15 to 0.50 with a step of 0.05\n",
    "}"
   ]
  },
  {
   "cell_type": "code",
   "execution_count": null,
   "id": "c19228f1",
   "metadata": {
    "colab": {
     "base_uri": "https://localhost:8080/"
    },
    "id": "c19228f1",
    "outputId": "f51a2b59-9806-48f1-fb95-18127e2bda8a",
    "scrolled": true
   },
   "outputs": [],
   "source": [
    "# Iterate over each combination of parameters in the parameter grid\n",
    "for params in ParameterGrid(param_grid):\n",
    "    # Initialize Elo ratings and games played dictionaries for each set of parameters\n",
    "    players_elo = {}\n",
    "    players_games_played = {}\n",
    "    \n",
    "    # Create a copy of the matches dataset to avoid modifying the original dataset\n",
    "    all_matches_538_elo = all_matches_538.copy()\n",
    "    \n",
    "    # Update Elo ratings and probabilities for each match using the current set of parameters\n",
    "    update_elo_and_probabilities_538_param(all_matches_538_elo, params['delta'], params['nu'], params['sigma'])\n",
    "    \n",
    "    # Convert the 'Date' column to datetime format for splitting the dataset\n",
    "    all_matches_538_elo['Date'] = pd.to_datetime(all_matches_538_elo['Date'], format='%Y-%m-%d')\n",
    "    \n",
    "    # Define the split date for training and validation datasets (January 1, 2019)\n",
    "    split_time = pd.to_datetime('2019-01-01', format='%Y-%m-%d')\n",
    "    \n",
    "    # Split the dataset into training and validation sets based on the defined split time\n",
    "    all_matches_538_elo_train = all_matches_538_elo[all_matches_538_elo['Date'] < split_time]\n",
    "    all_matches_538_elo_validation = all_matches_538_elo[all_matches_538_elo['Date'] >= split_time]\n",
    "    \n",
    "    # Evaluate the model using the validation set and calculate log loss, accuracy, and calibration\n",
    "    accuracy_value, calibration_value, logloss_value = evaluate_model(all_matches_538_elo_validation)\n",
    "    \n",
    "    # Append the results for the current set of parameters to the results list\n",
    "    results.append({\n",
    "        'delta': params['delta'],\n",
    "        'nu': params['nu'],\n",
    "        'sigma': params['sigma'],\n",
    "        'logloss': logloss_value,\n",
    "        'accuracy': accuracy_value,\n",
    "        'calibration': calibration_value\n",
    "    })\n",
    "\n",
    "# Convert the results list into a DataFrame for easier analysis\n",
    "results_df = pd.DataFrame(results)\n",
    "\n",
    "# Find the best parameters based on the minimum log loss\n",
    "best_params_logloss = results_df.loc[results_df['logloss'].idxmin()]\n",
    "\n",
    "# Find the best parameters based on the maximum accuracy\n",
    "best_params_accuracy = results_df.loc[results_df['accuracy'].idxmax()]\n",
    "\n",
    "# Print the best parameters based on log-loss\n",
    "print(f\"Best parameters based on log-loss: \\n{best_params_logloss}\\n\")\n",
    "\n",
    "# Print the best parameters based on accuracy\n",
    "print(f\"Best parameters based on accuracy: \\n{best_params_accuracy}\\n\")"
   ]
  },
  {
   "cell_type": "markdown",
   "id": "02ecd16d",
   "metadata": {},
   "source": [
    "## Optimization and Identification of Optimal Parameter Values:"
   ]
  },
  {
   "cell_type": "code",
   "execution_count": null,
   "id": "nKYPJeR55FBQ",
   "metadata": {
    "colab": {
     "base_uri": "https://localhost:8080/"
    },
    "id": "nKYPJeR55FBQ",
    "outputId": "58d0028f-3b6d-4761-c91b-7746e2d20a45"
   },
   "outputs": [],
   "source": [
    "# Filter rows where accuracy is greater than 0.64\n",
    "filtered_df_accuracy = results_df[results_df['accuracy'] > 0.641]\n",
    "\n",
    "# Sort the filtered DataFrame by ascending order of log-loss\n",
    "sorted_df_accuracy = filtered_df_accuracy.sort_values(by='logloss')\n",
    "\n",
    "sorted_df_accuracy.head()"
   ]
  },
  {
   "cell_type": "code",
   "execution_count": null,
   "id": "gBAvH6mn7cWo",
   "metadata": {
    "colab": {
     "base_uri": "https://localhost:8080/",
     "height": 211
    },
    "id": "gBAvH6mn7cWo",
    "outputId": "f99976c3-87d8-4dc5-ffe0-65b6546476e7"
   },
   "outputs": [],
   "source": [
    "# Filter rows where logloss is less than 0.633985 and accuracy is greater than 0.63\n",
    "filtered_df_logloss = results_df[(results_df['logloss'] < 0.633985) & (results_df['accuracy'] > 0.63)]\n",
    "\n",
    "# Sort the filtered DataFrame by ascending order of logloss\n",
    "sorted_df_logloss = filtered_df_logloss.sort_values(by='logloss')\n",
    "\n",
    "sorted_df_logloss.head()"
   ]
  },
  {
   "cell_type": "code",
   "execution_count": null,
   "id": "b7cb3df3",
   "metadata": {},
   "outputs": [],
   "source": [
    "# Get the first row of each dataframe\n",
    "optimisation_1 = sorted_df_logloss.iloc[0]\n",
    "optimisation_2 = sorted_df_accuracy.iloc[0]\n",
    "optimisation_3 = sorted_df_accuracy.iloc[1]\n",
    "optimisation_4 = sorted_df_accuracy.iloc[16]\n",
    "\n",
    "# Combine the rows into a single dataframe for comparison\n",
    "comparison_df = pd.DataFrame({\n",
    "    'Optimisation 1': optimisation_1,\n",
    "    'Optimisation 2': optimisation_2,\n",
    "    'Optimisation 3': optimisation_3,\n",
    "    'Optimisation 4': optimisation_4\n",
    "}).T\n",
    "\n",
    "comparison_df"
   ]
  },
  {
   "cell_type": "markdown",
   "id": "a16f80f3",
   "metadata": {},
   "source": [
    "## 3D Visualization of Log Loss Across Delta, Nu, and Sigma Parameters:"
   ]
  },
  {
   "cell_type": "code",
   "execution_count": null,
   "id": "75ce1937",
   "metadata": {},
   "outputs": [],
   "source": [
    "# Prepare data for 3D plot\n",
    "X = results_df['delta']\n",
    "Y = results_df['nu']\n",
    "Z = results_df['sigma']\n",
    "log_loss_values = results_df['logloss']\n",
    "\n",
    "# Create a figure and 3D axis for the plot\n",
    "fig = plt.figure(figsize=(14, 10))\n",
    "ax = fig.add_subplot(111, projection='3d')\n",
    "\n",
    "# Create 3D scatter plot with better visualization\n",
    "sc = ax.scatter(X, Y, Z, c=log_loss_values, cmap='viridis', marker='o', s=60, alpha=0.8, edgecolor='k')\n",
    "\n",
    "# Find the minimum log loss and its corresponding parameters\n",
    "min_loss_index = np.argmin(log_loss_values)\n",
    "min_X = X.iloc[min_loss_index]\n",
    "min_Y = Y.iloc[min_loss_index]\n",
    "min_Z = Z.iloc[min_loss_index]\n",
    "min_loss = log_loss_values.iloc[min_loss_index]\n",
    "\n",
    "# Highlight the minimum log loss point with a larger red marker\n",
    "ax.scatter(min_X, min_Y, min_Z, color='red', s=150, edgecolor='black', label='Minimum Log Loss', marker='^')\n",
    "\n",
    "# Add a color bar which maps log loss values to colors\n",
    "cbar = plt.colorbar(sc, pad=0.1)\n",
    "cbar.set_label('Log Loss', fontsize=12)\n",
    "\n",
    "# Set labels and title with improved readability\n",
    "ax.set_xlabel('Delta', fontsize=12, labelpad=10)\n",
    "ax.set_ylabel('Nu', fontsize=12, labelpad=10)\n",
    "ax.set_zlabel('Sigma', fontsize=12, labelpad=10)\n",
    "ax.set_title('3D Visualization of Log Loss Across Delta, Nu, and Sigma Parameters', fontsize=14, pad=20)\n",
    "\n",
    "# Show legend with a better location\n",
    "ax.legend(loc='best', fontsize=10)\n",
    "\n",
    "# Add annotation below the plot\n",
    "plt.figtext(0.13, 0.03, f'Minimum Log Loss: {min_loss:.4f} at (Delta: {min_X}, Nu: {min_Y}, Sigma: {min_Z})', fontsize=12, ha='left')\n",
    "\n",
    "# Show the plot\n",
    "plt.show()"
   ]
  },
  {
   "cell_type": "markdown",
   "id": "309cba95",
   "metadata": {},
   "source": [
    "## Implementation of best parameters"
   ]
  },
  {
   "cell_type": "code",
   "execution_count": null,
   "id": "bfee072e",
   "metadata": {
    "id": "E4HIJNF752CJ"
   },
   "outputs": [],
   "source": [
    "# Update Elo ratings based on the selected best parameters\n",
    "players_elo = {}\n",
    "players_games_played = {}\n",
    "update_elo_and_probabilities_538_param(all_matches_538, 120, 25, 0.35)"
   ]
  },
  {
   "cell_type": "markdown",
   "id": "2ae2f813",
   "metadata": {
    "id": "2ae2f813"
   },
   "source": [
    "## Split Dataset:"
   ]
  },
  {
   "cell_type": "code",
   "execution_count": null,
   "id": "ef9f92c6",
   "metadata": {
    "id": "ef9f92c6"
   },
   "outputs": [],
   "source": [
    "all_matches_538['Date'] = pd.to_datetime(all_matches_538['Date'], format='%Y-%m-%d')\n",
    "split_time = pd.to_datetime('2019-01-01', format='%Y-%m-%d')\n",
    "all_matches_538_train = all_matches_538[all_matches_538['Date'] < split_time]\n",
    "all_matches_538_validation = all_matches_538[all_matches_538['Date'] >= split_time]"
   ]
  },
  {
   "cell_type": "markdown",
   "id": "56ea9f99",
   "metadata": {
    "id": "56ea9f99"
   },
   "source": [
    "## Evaluate Model Performance:"
   ]
  },
  {
   "cell_type": "code",
   "execution_count": null,
   "id": "f2534239",
   "metadata": {},
   "outputs": [],
   "source": [
    "print(\"\\033[1mMetrics - Optimised ELO 538\\033[0m\")\n",
    "accuracy_538, calibration_538, log_loss_538 = evaluate_model(all_matches_538_validation)"
   ]
  },
  {
   "cell_type": "code",
   "execution_count": null,
   "id": "20096418",
   "metadata": {
    "colab": {
     "base_uri": "https://localhost:8080/"
    },
    "id": "20096418",
    "outputId": "739fd2af-9a37-4778-88e9-9a1365251559"
   },
   "outputs": [],
   "source": [
    "# Create a DataFrame with the selected metrics\n",
    "metric_comparison = pd.DataFrame({\n",
    "    'Model': ['K_Constant', 'FiveThirtyEight_(538)', \"538_Optimised\"],\n",
    "    'Accuracy': [0.629772, 0.635943, accuracy_538],\n",
    "    'Log_Loss': [0.633985, 0.650521, log_loss_538],\n",
    "    'Calibration': [1.028118, 1.064329, calibration_538]\n",
    "})\n",
    "\n",
    "# Print the DataFrame\n",
    "metric_comparison"
   ]
  },
  {
   "cell_type": "markdown",
   "id": "a89e4ff2",
   "metadata": {},
   "source": [
    "## Filtering Top 50 and Top 100 Ranking players from the dataset:"
   ]
  },
  {
   "cell_type": "code",
   "execution_count": null,
   "id": "8a756bea",
   "metadata": {},
   "outputs": [],
   "source": [
    "# Load your dataset\n",
    "df = all_matches_538_validation"
   ]
  },
  {
   "cell_type": "code",
   "execution_count": null,
   "id": "9fa18cfa",
   "metadata": {},
   "outputs": [],
   "source": [
    "# Define function to filter dataset for top N players\n",
    "def filter_top_players(df, top_n):\n",
    "    df_top = df[(df['WRank'] <= top_n) | (df['LRank'] <= top_n)]\n",
    "    return df_top"
   ]
  },
  {
   "cell_type": "code",
   "execution_count": null,
   "id": "54b61295",
   "metadata": {},
   "outputs": [],
   "source": [
    "# Filter the dataset for top 50 and top 100 players\n",
    "df_top_50 = filter_top_players(df, 50)\n",
    "df_top_100 = filter_top_players(df, 100)"
   ]
  },
  {
   "cell_type": "markdown",
   "id": "7a78c11d",
   "metadata": {},
   "source": [
    "## Metrics - Top 50 & Top 100:"
   ]
  },
  {
   "cell_type": "code",
   "execution_count": null,
   "id": "cff23e7a",
   "metadata": {},
   "outputs": [],
   "source": [
    "print(\"\\033[1mMetrics - Top 50\\033[0m\")\n",
    "accuracy_50, calibration_50, log_loss_50 = evaluate_model(df_top_50)"
   ]
  },
  {
   "cell_type": "code",
   "execution_count": null,
   "id": "03df546a",
   "metadata": {},
   "outputs": [],
   "source": [
    "print(\"\\033[1mMetrics - Top 100\\033[0m\")\n",
    "accuracy_100, calibration_100, log_loss_100 = evaluate_model(df_top_100)"
   ]
  },
  {
   "cell_type": "code",
   "execution_count": null,
   "id": "4041f905",
   "metadata": {
    "scrolled": true
   },
   "outputs": [],
   "source": [
    "# Create a DataFrame to store the validation statistics\n",
    "validation_stats = pd.DataFrame({\n",
    "    'Model': [\n",
    "        '538_Optimised', '538_Optimised Top 50', '538_Optimised Top 100'\n",
    "    ],\n",
    "    'Accuracy': [\n",
    "        accuracy_538, accuracy_50, accuracy_100\n",
    "    ],\n",
    "    'Log_Loss': [\n",
    "        log_loss_538, log_loss_50, log_loss_100\n",
    "    ],\n",
    "    'Calibration': [\n",
    "        calibration_538, calibration_50, calibration_100\n",
    "    ]\n",
    "})\n",
    "\n",
    "# Print the validation statistics DataFrame\n",
    "validation_stats"
   ]
  }
 ],
 "metadata": {
  "accelerator": "GPU",
  "colab": {
   "gpuType": "T4",
   "provenance": []
  },
  "kernelspec": {
   "display_name": "Python 3 (ipykernel)",
   "language": "python",
   "name": "python3"
  },
  "language_info": {
   "codemirror_mode": {
    "name": "ipython",
    "version": 3
   },
   "file_extension": ".py",
   "mimetype": "text/x-python",
   "name": "python",
   "nbconvert_exporter": "python",
   "pygments_lexer": "ipython3",
   "version": "3.9.12"
  }
 },
 "nbformat": 4,
 "nbformat_minor": 5
}
