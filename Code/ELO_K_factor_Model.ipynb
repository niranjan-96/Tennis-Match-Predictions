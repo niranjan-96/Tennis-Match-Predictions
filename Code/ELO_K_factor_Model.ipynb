{
 "cells": [
  {
   "cell_type": "markdown",
   "id": "84c4d339",
   "metadata": {},
   "source": [
    "## Import Libraries:"
   ]
  },
  {
   "cell_type": "code",
   "execution_count": 1,
   "id": "d1a40824",
   "metadata": {},
   "outputs": [],
   "source": [
    "import warnings\n",
    "import numpy as np  # For numerical operations\n",
    "import pandas as pd  # For data manipulation and analysis\n",
    "import os  # For interacting with the operating system\n",
    "import matplotlib.pyplot as plt  # For plotting graphs\n",
    "from sklearn.model_selection import ParameterGrid  # For generating parameter grid for hyperparameter tuning\n",
    "from sklearn.metrics import log_loss  # For calculating log loss metric\n",
    "\n",
    "# Suppress specific UserWarnings from the 'openpyxl' module to prevent cluttering the output\n",
    "warnings.filterwarnings(\"ignore\", category=UserWarning, module='openpyxl')## Load the data:"
   ]
  },
  {
   "cell_type": "markdown",
   "id": "2f14ff7c",
   "metadata": {},
   "source": [
    "## Load the data:"
   ]
  },
  {
   "cell_type": "code",
   "execution_count": 2,
   "id": "36259fe0",
   "metadata": {},
   "outputs": [],
   "source": [
    "# Define the directory where your files are located\n",
    "# data_dir = '.'  \n",
    "data_dir = os.path.join(os.path.pardir) "
   ]
  },
  {
   "cell_type": "code",
   "execution_count": 3,
   "id": "e10aba72",
   "metadata": {},
   "outputs": [],
   "source": [
    "# List to hold the dataframes\n",
    "dataframes = []\n",
    "\n",
    "# Loop through the years and load the files\n",
    "for year in range(2005, 2020):\n",
    "    if year <= 2012:\n",
    "        file_path = os.path.join(data_dir, f'{year}.xls')\n",
    "    else:\n",
    "        file_path = os.path.join(data_dir, f'{year}.xlsx')\n",
    "    \n",
    "    # Load the file into a dataframe\n",
    "    df = pd.read_excel(file_path)\n",
    "    \n",
    "    # Append the dataframe to the list\n",
    "    dataframes.append(df)"
   ]
  },
  {
   "cell_type": "code",
   "execution_count": 4,
   "id": "cfce1197",
   "metadata": {},
   "outputs": [],
   "source": [
    "# Concatenate all the dataframes into one\n",
    "betting_data = pd.concat(dataframes, ignore_index=True)## Load the data:"
   ]
  },
  {
   "cell_type": "markdown",
   "id": "8d76c52a",
   "metadata": {},
   "source": [
    "## Fixing Anomalies"
   ]
  },
  {
   "cell_type": "code",
   "execution_count": 5,
   "id": "139ec16a",
   "metadata": {},
   "outputs": [],
   "source": [
    "def is_column_numeric(df, column_name):\n",
    "    # Check if the column contains only numeric values\n",
    "    return df[column_name].apply(lambda x: str(x).isnumeric()).all()"
   ]
  },
  {
   "cell_type": "code",
   "execution_count": 6,
   "id": "86144397",
   "metadata": {},
   "outputs": [
    {
     "name": "stdout",
     "output_type": "stream",
     "text": [
      "Column 'WRank' is not numeric.\n",
      "\n",
      "Column 'LRank' is not numeric.\n",
      "\n",
      "Column 'EXW' is not numeric.\n",
      "\n"
     ]
    }
   ],
   "source": [
    "# Check if columns are numeric before converting\n",
    "anomaly_column = ['WRank', 'LRank', 'EXW']\n",
    "for column in anomaly_column:\n",
    "    if is_column_numeric(betting_data, column):\n",
    "        print(f\"Column '{column}' is numeric.\\n\")\n",
    "    else:\n",
    "        print(f\"Column '{column}' is not numeric.\\n\")"
   ]
  },
  {
   "cell_type": "code",
   "execution_count": 7,
   "id": "c52465c5",
   "metadata": {},
   "outputs": [],
   "source": [
    "def find_non_numeric_values(df, column_name):\n",
    "    # Function to check if a value is numeric\n",
    "    def is_numeric(value):\n",
    "        try:\n",
    "            float(value)\n",
    "            return True\n",
    "        except ValueError:\n",
    "            return False\n",
    "\n",
    "    # Apply the function to the column and filter non-numeric values\n",
    "    non_numeric_values = df[~df[column_name].apply(is_numeric)]\n",
    "\n",
    "    # Display the non-numeric values\n",
    "    print(f\"Non-numeric values in {column_name}:\")\n",
    "    print(non_numeric_values[[column_name]])\n",
    "    print()"
   ]
  },
  {
   "cell_type": "code",
   "execution_count": 8,
   "id": "487bf8a1",
   "metadata": {},
   "outputs": [
    {
     "name": "stdout",
     "output_type": "stream",
     "text": [
      "Non-numeric values in WRank:\n",
      "Empty DataFrame\n",
      "Columns: [WRank]\n",
      "Index: []\n",
      "\n"
     ]
    }
   ],
   "source": [
    "# WRank column\n",
    "find_non_numeric_values(betting_data, 'WRank')"
   ]
  },
  {
   "cell_type": "code",
   "execution_count": 9,
   "id": "874034e6",
   "metadata": {},
   "outputs": [
    {
     "name": "stdout",
     "output_type": "stream",
     "text": [
      "Non-numeric values in LRank:\n",
      "Empty DataFrame\n",
      "Columns: [LRank]\n",
      "Index: []\n",
      "\n"
     ]
    }
   ],
   "source": [
    "# LRank column\n",
    "find_non_numeric_values(betting_data, 'LRank')"
   ]
  },
  {
   "cell_type": "code",
   "execution_count": 10,
   "id": "c86bd727",
   "metadata": {},
   "outputs": [
    {
     "name": "stdout",
     "output_type": "stream",
     "text": [
      "Non-numeric values in EXW:\n",
      "        EXW\n",
      "23776  2.,3\n",
      "\n"
     ]
    }
   ],
   "source": [
    "# EXW column\n",
    "find_non_numeric_values(betting_data, 'EXW')"
   ]
  },
  {
   "cell_type": "code",
   "execution_count": 11,
   "id": "863a57ee",
   "metadata": {},
   "outputs": [],
   "source": [
    "# Convert WRank and LRank to numeric, coercing errors\n",
    "betting_data['WRank'] = pd.to_numeric(betting_data['WRank'], errors='coerce')\n",
    "betting_data['LRank'] = pd.to_numeric(betting_data['LRank'], errors='coerce')\n",
    "\n",
    "# Fill NaN values with a high number\n",
    "betting_data['WRank'].fillna(100000, inplace=True)\n",
    "betting_data['LRank'].fillna(100000, inplace=True)\n",
    "\n",
    "\n",
    "# Correct the typo in row 38294, column 'EXW'\n",
    "if betting_data.at[38294, 'EXW'] == '2.,3':\n",
    "    betting_data.at[38294, 'EXW'] = '2.3'"
   ]
  },
  {
   "cell_type": "markdown",
   "id": "44f8d932",
   "metadata": {},
   "source": [
    "## Preprocess Dataset:"
   ]
  },
  {
   "cell_type": "code",
   "execution_count": 12,
   "id": "d7e33654",
   "metadata": {},
   "outputs": [],
   "source": [
    "# Create a new column 'higher_rank_won' to indicate if the higher-ranked player won the match\n",
    "betting_data['higher_rank_won'] = (betting_data['WRank'] < betting_data['LRank']).astype(int)\n",
    "\n",
    "# Calculate the points for the higher-ranked player: \n",
    "# If the higher-ranked player won, use their points ('WPts'); otherwise, use the opponent's points ('LPts')\n",
    "betting_data['higher_rank_points'] = betting_data['higher_rank_won'] * betting_data['WPts'] + betting_data['LPts'] * (1 - betting_data['higher_rank_won'])\n",
    "\n",
    "# Calculate the points for the lower-ranked player:\n",
    "# If the higher-ranked player lost, use their points ('WPts'); otherwise, use the opponent's points ('LPts')\n",
    "betting_data['lower_rank_points'] = (1 - betting_data['higher_rank_won']) * betting_data['WPts'] + betting_data['LPts'] * betting_data['higher_rank_won']\n",
    "\n",
    "# Fill any missing values in 'higher_rank_points' with 0 to avoid issues in further calculations\n",
    "betting_data['higher_rank_points'].fillna(0, inplace=True)\n",
    "\n",
    "# Fill any missing values in 'lower_rank_points' with 0 to ensure consistency in the dataset\n",
    "betting_data['lower_rank_points'].fillna(0, inplace=True)\n",
    "\n",
    "# Filter the DataFrame to include only rows where the match status is 'Completed'\n",
    "# This ensures that only fully played matches are considered in the analysis\n",
    "betting_data = betting_data.loc[betting_data['Comment'] == 'Completed']\n",
    "\n",
    "# Create a copy of the betting_data DataFrame, named 'all_matches_k', for further processing\n",
    "all_matches_k = betting_data.copy()\n",
    "\n",
    "# List of columns to drop from the dataset as they are not needed for the analysis\n",
    "columns_to_drop = [\n",
    "    'W1', 'L1', 'W2', 'L2', 'W3', 'L3', 'W4', 'L4', 'W5', 'L5', 'Wsets', 'Lsets', 'Comment',\n",
    "    'CBW', 'CBL', 'IWW', 'IWL', 'B365W', 'B365L', \n",
    "    'EXW', 'EXL', 'PSW', 'PSL', 'WPts', 'LPts', 'UBW', 'UBL', 'LBW', 'LBL', 'SJW', 'SJL',\n",
    "    'MaxW', 'MaxL', 'AvgW', 'AvgL'\n",
    "]\n",
    "\n",
    "# Drop the unnecessary columns from 'all_matches_k' to simplify the dataset for analysis\n",
    "all_matches_k = all_matches_k.drop(columns=columns_to_drop)"
   ]
  },
  {
   "cell_type": "markdown",
   "id": "604dfa0e",
   "metadata": {},
   "source": [
    "## K-Factor Model Setup and Definitions:"
   ]
  },
  {
   "cell_type": "code",
   "execution_count": 13,
   "id": "f592ec81",
   "metadata": {},
   "outputs": [],
   "source": [
    "def win_probability(E_i, E_j):\n",
    "    \"\"\"\n",
    "    Calculate the probability of Player i winning against Player j based on their ratings.\n",
    "\n",
    "    Parameters:\n",
    "    E_i (float): The rating of Player i.\n",
    "    E_j (float): The rating of Player j.\n",
    "\n",
    "    Returns:\n",
    "    float: The probability of Player i winning.\n",
    "    \"\"\"\n",
    "    # Calculate and return the win probability using the Elo rating formula\n",
    "    return 1 / (1 + 10 ** ((E_j - E_i) / 400))"
   ]
  },
  {
   "cell_type": "code",
   "execution_count": 14,
   "id": "76dc402e",
   "metadata": {},
   "outputs": [],
   "source": [
    "def get_player_elo(player_name):\n",
    "    \"\"\"\n",
    "    Retrieve the Elo rating of a player. If the player is not in the Elo dictionary,\n",
    "    assign them an initial Elo rating.\n",
    "\n",
    "    Parameters:\n",
    "    player_name (str): The name of the player.\n",
    "\n",
    "    Returns:\n",
    "    float: The Elo rating of the player.\n",
    "    \"\"\"\n",
    "    # Check if the player is in the dictionary of Elo ratings\n",
    "    if player_name not in players_elo:\n",
    "        # If the player is not found, assign them the initial Elo rating\n",
    "        players_elo[player_name] = initial_elo\n",
    "        \n",
    "    # Return the player's Elo rating    \n",
    "    return players_elo[player_name]"
   ]
  },
  {
   "cell_type": "code",
   "execution_count": 15,
   "id": "0c47d9db",
   "metadata": {},
   "outputs": [],
   "source": [
    "def set_player_elo(player_name, elo):\n",
    "    \"\"\"\n",
    "    Set the Elo rating for a specific player.\n",
    "\n",
    "    Parameters:\n",
    "    player_name (str): The name of the player.\n",
    "    elo (float): The new Elo rating to be assigned to the player.\n",
    "    \"\"\"\n",
    "    # Assign the given Elo rating to the specified player in the players_elo dictionary\n",
    "    players_elo[player_name] = elo"
   ]
  },
  {
   "cell_type": "code",
   "execution_count": 16,
   "id": "f9900381",
   "metadata": {},
   "outputs": [],
   "source": [
    "def update_elo_k(E_i, E_j, K, outcome):\n",
    "    \"\"\"\n",
    "    Update the Elo rating for a player based on the match outcome using the Elo rating system.\n",
    "\n",
    "    Parameters:\n",
    "    E_i (float): The current Elo rating of player i.\n",
    "    E_j (float): The Elo rating of the opponent, player j.\n",
    "    K (float): The K-factor, which determines how much the Elo rating changes after a match.\n",
    "    outcome (str): The outcome of the match for player i. Should be 'win' or 'loss'.\n",
    "\n",
    "    Returns:\n",
    "    float: The updated Elo rating of player i.\n",
    "    \"\"\"\n",
    "    pi_j = win_probability(E_i, E_j)  # Calculate win probability for player i against player j\n",
    "    if outcome == 'win':\n",
    "        delta_E_i = K * (1 - pi_j)  # Elo rating change for a win\n",
    "        new_E_i = E_i + delta_E_i\n",
    "    elif outcome == 'loss':\n",
    "        delta_E_i = K * (pi_j - 1)  # Elo rating change for a loss\n",
    "        new_E_i = E_j + delta_E_i\n",
    "    else:\n",
    "        raise ValueError(\"Outcome must be 'win' or 'loss'\")\n",
    "    return new_E_i"
   ]
  },
  {
   "cell_type": "code",
   "execution_count": 17,
   "id": "4348b899",
   "metadata": {},
   "outputs": [],
   "source": [
    "def evaluate_model(df):\n",
    "    \"\"\"\n",
    "    Evaluate the performance of a model by calculating log loss, accuracy, and calibration.\n",
    "\n",
    "    Parameters:\n",
    "    df (pandas.DataFrame): DataFrame containing the actual outcomes and predicted probabilities.\n",
    "                           Expected columns:\n",
    "                           - 'higher_rank_won': Actual outcome (1 if higher-ranked player won, 0 otherwise).\n",
    "                           - 'prob_high_ranked': Predicted probability of the higher-ranked player winning.\n",
    "                           - 'match_outcome': Actual match outcome (can be used to calculate accuracy).\n",
    "\n",
    "    Returns:\n",
    "    tuple: A tuple containing:\n",
    "           - logloss_value (float): The log loss of the predictions.\n",
    "           - accuracy_value (float): The accuracy of the model.\n",
    "           - calibration_value (float): The calibration metric for the predictions.\n",
    "    \"\"\"\n",
    "    # Calculate log loss between the actual outcomes and predicted probabilities\n",
    "    logloss_value = log_loss(df.higher_rank_won, df.prob_high_ranked)\n",
    "    \n",
    "    # Calculate accuracy by comparing predicted match outcome with the actual outcome\n",
    "    accuracy_value = np.mean(df.match_outcome == df.higher_rank_won)\n",
    "    \n",
    "    # Calculate calibration by dividing the sum of predicted probabilities by the sum of actual outcomes\n",
    "    calibration_value = np.sum(df.prob_high_ranked) / np.sum(df.higher_rank_won)\n",
    "    \n",
    "    # Return the calculated metrics\n",
    "    return accuracy_value, calibration_value, logloss_value"
   ]
  },
  {
   "cell_type": "code",
   "execution_count": 18,
   "id": "325d4a13",
   "metadata": {},
   "outputs": [],
   "source": [
    "def update_elo_and_probabilities_k(df, K):\n",
    "    \"\"\"\n",
    "    Update the Elo ratings and win probabilities for each match in the dataset.\n",
    "\n",
    "    Parameters:\n",
    "    df (pandas.DataFrame): DataFrame containing match data. Expected columns:\n",
    "                           - 'Winner': Name of the player who won the match.\n",
    "                           - 'Loser': Name of the player who lost the match.\n",
    "                           - 'higher_rank_won': Boolean indicating if the higher-ranked player won.\n",
    "    K (float): The K-factor, which determines how much the Elo rating changes after a match.\n",
    "\n",
    "    Returns:\n",
    "    None: The DataFrame is modified in place with updated Elo ratings and probabilities.\n",
    "    \"\"\"\n",
    "    for index, match in df.iterrows():\n",
    "        winner_name, loser_name = match['Winner'], match['Loser']\n",
    "\n",
    "        # Retrieve current Elo ratings\n",
    "        winner_elo = get_player_elo(winner_name)\n",
    "        loser_elo = get_player_elo(loser_name)\n",
    "        \n",
    "        # Calculate win probabilities\n",
    "        df.at[index, 'prob_winner'] = win_probability(winner_elo, loser_elo)\n",
    "\n",
    "        # Determine match outcomes based on probability and who was expected to win\n",
    "        if match['higher_rank_won']:\n",
    "            df.at[index, 'match_outcome'] = int(df.at[index, 'prob_winner'] > 0.5)\n",
    "            df.at[index, 'prob_high_ranked'] = df.at[index, 'prob_winner']\n",
    "        else:\n",
    "            df.at[index, 'match_outcome'] = int((1 - df.at[index, 'prob_winner']) > 0.5)\n",
    "            df.at[index, 'prob_high_ranked'] = 1 - df.at[index, 'prob_winner']\n",
    "\n",
    "        # Update Elo ratings\n",
    "        new_winner_elo = update_elo_k(winner_elo, loser_elo, K, 'win')\n",
    "        new_loser_elo = update_elo_k(winner_elo, loser_elo, K, 'loss')\n",
    "        set_player_elo(winner_name, new_winner_elo)\n",
    "        set_player_elo(loser_name, new_loser_elo)"
   ]
  },
  {
   "cell_type": "markdown",
   "id": "f19fd6b0",
   "metadata": {},
   "source": [
    "## Optimisation of K - value:"
   ]
  },
  {
   "cell_type": "code",
   "execution_count": 19,
   "id": "dbc34b76",
   "metadata": {},
   "outputs": [
    {
     "name": "stdout",
     "output_type": "stream",
     "text": [
      "Best parameters based on log-loss: \n",
      "K              21.000000\n",
      "logloss         0.631496\n",
      "accuracy        0.634700\n",
      "calibration     1.027850\n",
      "Name: 20, dtype: float64\n",
      "\n",
      "Best parameters based on accuracy: \n",
      "K              59.000000\n",
      "logloss         0.646446\n",
      "accuracy        0.637087\n",
      "calibration     1.060698\n",
      "Name: 58, dtype: float64\n",
      "\n",
      "Update Elo ratings based on (logloss/accuracy): logloss\n",
      "\n",
      "Selected best parameters: \n",
      "K              21.000000\n",
      "logloss         0.631496\n",
      "accuracy        0.634700\n",
      "calibration     1.027850\n",
      "Name: 20, dtype: float64\n"
     ]
    }
   ],
   "source": [
    "# Initialize the initial Elo rating for all players\n",
    "initial_elo = 1500\n",
    "\n",
    "results = []\n",
    "\n",
    "# Check K values from 1 to 100\n",
    "for K in range(1, 101):\n",
    "    players_elo = {}\n",
    "    all_matches_k_elo = all_matches_k.copy()\n",
    "    update_elo_and_probabilities_k(all_matches_k_elo, K)\n",
    "    all_matches_k_elo['Date'] = pd.to_datetime(all_matches_k_elo['Date'], format='%Y-%m-%d')\n",
    "    split_time = pd.to_datetime('2019-01-01', format='%Y-%m-%d')\n",
    "    all_matches_k_elo_train = all_matches_k_elo[all_matches_k_elo['Date'] < split_time]\n",
    "    all_matches_k_elo_validation = all_matches_k_elo[all_matches_k_elo['Date'] >= split_time]\n",
    "    accuracy_value, calibration_value, logloss_value = evaluate_model(all_matches_k_elo_validation)\n",
    "    results.append({\n",
    "        'K': K,\n",
    "        'logloss': logloss_value,\n",
    "        'accuracy': accuracy_value,\n",
    "        'calibration': calibration_value\n",
    "    })\n",
    "\n",
    "results_df = pd.DataFrame(results)\n",
    "best_params_logloss = results_df.loc[results_df['logloss'].idxmin()]\n",
    "best_params_accuracy = results_df.loc[results_df['accuracy'].idxmax()]\n",
    "print(f\"Best parameters based on log-loss: \\n{best_params_logloss}\\n\")\n",
    "print(f\"Best parameters based on accuracy: \\n{best_params_accuracy}\\n\")\n",
    "\n",
    "# Prompt user for choice\n",
    "choice = input(\"Update Elo ratings based on (logloss/accuracy): \").strip().lower()\n",
    "\n",
    "if choice == \"logloss\":\n",
    "    best_params = best_params_logloss\n",
    "elif choice == \"accuracy\":\n",
    "    best_params = best_params_accuracy\n",
    "else:\n",
    "    raise ValueError(\"Invalid choice! Please choose 'logloss' or 'accuracy'.\")\n",
    "\n",
    "print(f\"\\nSelected best parameters: \\n{best_params}\")"
   ]
  },
  {
   "cell_type": "markdown",
   "id": "078a98b7",
   "metadata": {},
   "source": [
    "## Implementation of best parameters:"
   ]
  },
  {
   "cell_type": "code",
   "execution_count": 20,
   "id": "700a40f5",
   "metadata": {},
   "outputs": [],
   "source": [
    "# Initialize the initial Elo rating for all players\n",
    "initial_elo = 1500\n",
    "\n",
    "# Initialize an empty dictionary to store general Elo ratings for all players\n",
    "players_elo = {}\n",
    "\n",
    "update_elo_and_probabilities_k(all_matches_k, best_params['K'])"
   ]
  },
  {
   "cell_type": "markdown",
   "id": "4775e23c",
   "metadata": {},
   "source": [
    "## Relationship between K Values and Log-Loss:"
   ]
  },
  {
   "cell_type": "code",
   "execution_count": 21,
   "id": "82d3a36c",
   "metadata": {},
   "outputs": [
    {
     "data": {
      "image/png": "[encoded data removed]",
      "text/plain": [
       "<Figure size 864x576 with 1 Axes>"
      ]
     },
     "metadata": {
      "needs_background": "light"
     },
     "output_type": "display_data"
    },
    {
     "name": "stdout",
     "output_type": "stream",
     "text": [
      "Minimum Log-Loss: 0.6315\n",
      "Corresponding K: 21.0\n"
     ]
    }
   ],
   "source": [
    "# Extract values for plotting\n",
    "K_values = results_df['K']\n",
    "logloss = results_df['logloss']\n",
    "\n",
    "# Create a 2D plot with improved visualization\n",
    "plt.figure(figsize=(12, 8))\n",
    "plt.scatter(K_values, logloss, c='blue', alpha=0.7, edgecolors='white', s=100, label='Log-Loss Values')\n",
    "plt.xlabel('K Values', fontsize=14)\n",
    "plt.ylabel('Log-Loss', fontsize=14)\n",
    "plt.title('Relationship between K Values and Log-Loss', fontsize=16)\n",
    "\n",
    "# Highlight the point with the minimum log-loss\n",
    "min_logloss_row = results_df.loc[results_df['logloss'].idxmin()]\n",
    "min_K = min_logloss_row['K']\n",
    "min_logloss = min_logloss_row['logloss']\n",
    "\n",
    "plt.scatter(min_K, min_logloss, color='red', s=150, edgecolors='black', label=f'Minimum Log-Loss\\nK = {min_K}, Log-Loss = {min_logloss:.4f}')\n",
    "plt.legend(fontsize=12)\n",
    "\n",
    "# Add grid for better readability\n",
    "plt.grid(True, linestyle='--', alpha=0.7)\n",
    "\n",
    "# Show the plot\n",
    "plt.show()\n",
    "\n",
    "# Print the corresponding K value\n",
    "print(f'Minimum Log-Loss: {min_logloss:.4f}')\n",
    "print(f'Corresponding K: {min_K}')\n",
    "## Relationship between K Values and Log-Loss"
   ]
  },
  {
   "cell_type": "markdown",
   "id": "bec78a3f",
   "metadata": {},
   "source": [
    "## Split Dataset:"
   ]
  },
  {
   "cell_type": "code",
   "execution_count": 22,
   "id": "36afad0f",
   "metadata": {},
   "outputs": [],
   "source": [
    "all_matches_k['Date'] = pd.to_datetime(all_matches_k['Date'], format='%Y-%m-%d')\n",
    "split_time = pd.to_datetime('2019-01-01', format='%Y-%m-%d')\n",
    "all_matches_k_train = all_matches_k[all_matches_k['Date'] < split_time]\n",
    "all_matches_k_validation = all_matches_k[all_matches_k['Date'] >= split_time]"
   ]
  },
  {
   "cell_type": "markdown",
   "id": "4c7c5285",
   "metadata": {},
   "source": [
    "## Evaluate Model Performance:"
   ]
  },
  {
   "cell_type": "code",
   "execution_count": 23,
   "id": "49da47f7",
   "metadata": {},
   "outputs": [
    {
     "name": "stdout",
     "output_type": "stream",
     "text": [
      "\u001b[1mOptimised K - Metrics\u001b[0m\n",
      "Accuracy: 0.6347\n",
      "Calibration: 1.0279\n",
      "Log Loss: 0.6315\n"
     ]
    }
   ],
   "source": [
    "print(\"\\033[1mOptimised K - Metrics\\033[0m\")\n",
    "accuracy_k, calibration_k, log_loss_k = evaluate_model(all_matches_k_validation)\n",
    "print(f\"Accuracy: {accuracy_k:.4f}\")\n",
    "print(f\"Calibration: {calibration_k:.4f}\")\n",
    "print(f\"Log Loss: {log_loss_k:.4f}\")"
   ]
  },
  {
   "cell_type": "code",
   "execution_count": 24,
   "id": "969f2640",
   "metadata": {},
   "outputs": [
    {
     "data": {
      "text/html": [
       "<div>\n",
       "<style scoped>\n",
       "    .dataframe tbody tr th:only-of-type {\n",
       "        vertical-align: middle;\n",
       "    }\n",
       "\n",
       "    .dataframe tbody tr th {\n",
       "        vertical-align: top;\n",
       "    }\n",
       "\n",
       "    .dataframe thead th {\n",
       "        text-align: right;\n",
       "    }\n",
       "</style>\n",
       "<table border=\"1\" class=\"dataframe\">\n",
       "  <thead>\n",
       "    <tr style=\"text-align: right;\">\n",
       "      <th></th>\n",
       "      <th>Model</th>\n",
       "      <th>Accuracy</th>\n",
       "      <th>Log_Loss</th>\n",
       "      <th>Calibration</th>\n",
       "    </tr>\n",
       "  </thead>\n",
       "  <tbody>\n",
       "    <tr>\n",
       "      <th>0</th>\n",
       "      <td>K_Constant_25</td>\n",
       "      <td>0.635495</td>\n",
       "      <td>0.631738</td>\n",
       "      <td>1.035578</td>\n",
       "    </tr>\n",
       "    <tr>\n",
       "      <th>1</th>\n",
       "      <td>K_Constant_Optimised</td>\n",
       "      <td>0.634700</td>\n",
       "      <td>0.631496</td>\n",
       "      <td>1.027850</td>\n",
       "    </tr>\n",
       "  </tbody>\n",
       "</table>\n",
       "</div>"
      ],
      "text/plain": [
       "                  Model  Accuracy  Log_Loss  Calibration\n",
       "0         K_Constant_25  0.635495  0.631738     1.035578\n",
       "1  K_Constant_Optimised  0.634700  0.631496     1.027850"
      ]
     },
     "execution_count": 24,
     "metadata": {},
     "output_type": "execute_result"
    }
   ],
   "source": [
    "# Create a DataFrame with the selected metrics\n",
    "metric_comparison = pd.DataFrame({\n",
    "    'Model': ['K_Constant_25', 'K_Constant_Optimised'],\n",
    "    'Accuracy': [results_df.iloc[24][2], accuracy_k],\n",
    "    'Log_Loss': [results_df.iloc[24][1], log_loss_k],\n",
    "    'Calibration': [results_df.iloc[24][3], calibration_k]\n",
    "})\n",
    "\n",
    "# Print the DataFrame\n",
    "metric_comparison"
   ]
  },
  {
   "cell_type": "markdown",
   "id": "a89e4ff2",
   "metadata": {},
   "source": [
    "## Filtering Top 50 and Top 100 Ranking players from the dataset:"
   ]
  },
  {
   "cell_type": "code",
   "execution_count": 25,
   "id": "8793d6b9",
   "metadata": {},
   "outputs": [],
   "source": [
    "# Load your dataset\n",
    "df = all_matches_k_validation"
   ]
  },
  {
   "cell_type": "code",
   "execution_count": 26,
   "id": "edf5c929",
   "metadata": {},
   "outputs": [],
   "source": [
    "# Define function to filter dataset for top N players\n",
    "def filter_top_players(df, top_n):\n",
    "    df_top = df[(df['WRank'] <= top_n) | (df['LRank'] <= top_n)]\n",
    "    return df_top"
   ]
  },
  {
   "cell_type": "code",
   "execution_count": 27,
   "id": "54b61295",
   "metadata": {},
   "outputs": [],
   "source": [
    "# Filter the dataset for top 50 and top 100 players\n",
    "df_top_50 = filter_top_players(df, 50)\n",
    "df_top_100 = filter_top_players(df, 100)"
   ]
  },
  {
   "cell_type": "markdown",
   "id": "d6f14020",
   "metadata": {},
   "source": [
    "## Metrics - Top 50 & Top 100:"
   ]
  },
  {
   "cell_type": "code",
   "execution_count": 28,
   "id": "cff23e7a",
   "metadata": {
    "scrolled": true
   },
   "outputs": [
    {
     "name": "stdout",
     "output_type": "stream",
     "text": [
      "\u001b[1mMetrics - Top 50\u001b[0m\n",
      "Accuracy: 0.6591\n",
      "Calibration: 1.0522\n",
      "Log Loss: 0.6127\n"
     ]
    }
   ],
   "source": [
    "print(\"\\033[1mMetrics - Top 50\\033[0m\")\n",
    "accuracy_50, calibration_50, log_loss_50 = evaluate_model(df_top_50)\n",
    "print(f\"Accuracy: {accuracy_50:.4f}\")\n",
    "print(f\"Calibration: {calibration_50:.4f}\")\n",
    "print(f\"Log Loss: {log_loss_50:.4f}\")"
   ]
  },
  {
   "cell_type": "code",
   "execution_count": 29,
   "id": "03df546a",
   "metadata": {},
   "outputs": [
    {
     "name": "stdout",
     "output_type": "stream",
     "text": [
      "\u001b[1mMetrics - Top 100\u001b[0m\n",
      "Accuracy: 0.6372\n",
      "Calibration: 1.0358\n",
      "Log Loss: 0.6303\n"
     ]
    }
   ],
   "source": [
    "print(\"\\033[1mMetrics - Top 100\\033[0m\")\n",
    "accuracy_100, calibration_100, log_loss_100 = evaluate_model(df_top_100)\n",
    "print(f\"Accuracy: {accuracy_100:.4f}\")\n",
    "print(f\"Calibration: {calibration_100:.4f}\")\n",
    "print(f\"Log Loss: {log_loss_100:.4f}\")"
   ]
  },
  {
   "cell_type": "code",
   "execution_count": 30,
   "id": "4041f905",
   "metadata": {
    "scrolled": true
   },
   "outputs": [
    {
     "data": {
      "text/html": [
       "<div>\n",
       "<style scoped>\n",
       "    .dataframe tbody tr th:only-of-type {\n",
       "        vertical-align: middle;\n",
       "    }\n",
       "\n",
       "    .dataframe tbody tr th {\n",
       "        vertical-align: top;\n",
       "    }\n",
       "\n",
       "    .dataframe thead th {\n",
       "        text-align: right;\n",
       "    }\n",
       "</style>\n",
       "<table border=\"1\" class=\"dataframe\">\n",
       "  <thead>\n",
       "    <tr style=\"text-align: right;\">\n",
       "      <th></th>\n",
       "      <th>Model</th>\n",
       "      <th>Accuracy</th>\n",
       "      <th>Log_Loss</th>\n",
       "      <th>Calibration</th>\n",
       "    </tr>\n",
       "  </thead>\n",
       "  <tbody>\n",
       "    <tr>\n",
       "      <th>0</th>\n",
       "      <td>K_Constant_Optimised</td>\n",
       "      <td>0.634700</td>\n",
       "      <td>0.631496</td>\n",
       "      <td>1.027850</td>\n",
       "    </tr>\n",
       "    <tr>\n",
       "      <th>1</th>\n",
       "      <td>K_Constant_Optimised Top 50</td>\n",
       "      <td>0.659117</td>\n",
       "      <td>0.612721</td>\n",
       "      <td>1.052163</td>\n",
       "    </tr>\n",
       "    <tr>\n",
       "      <th>2</th>\n",
       "      <td>K_Constant_Optimised Top 100</td>\n",
       "      <td>0.637157</td>\n",
       "      <td>0.630283</td>\n",
       "      <td>1.035779</td>\n",
       "    </tr>\n",
       "  </tbody>\n",
       "</table>\n",
       "</div>"
      ],
      "text/plain": [
       "                          Model  Accuracy  Log_Loss  Calibration\n",
       "0          K_Constant_Optimised  0.634700  0.631496     1.027850\n",
       "1   K_Constant_Optimised Top 50  0.659117  0.612721     1.052163\n",
       "2  K_Constant_Optimised Top 100  0.637157  0.630283     1.035779"
      ]
     },
     "execution_count": 30,
     "metadata": {},
     "output_type": "execute_result"
    }
   ],
   "source": [
    "# Create a DataFrame to store the validation statistics\n",
    "validation_stats = pd.DataFrame({\n",
    "    'Model': [\n",
    "        'K_Constant_Optimised', 'K_Constant_Optimised Top 50', 'K_Constant_Optimised Top 100'\n",
    "    ],\n",
    "    'Accuracy': [\n",
    "        accuracy_k, accuracy_50, accuracy_100\n",
    "    ],\n",
    "    'Log_Loss': [\n",
    "        log_loss_k, log_loss_50, log_loss_100\n",
    "    ],\n",
    "    'Calibration': [\n",
    "        calibration_k, calibration_50, calibration_100\n",
    "    ]\n",
    "})\n",
    "\n",
    "# Print the validation statistics DataFrame\n",
    "validation_stats"
   ]
  }
 ],
 "metadata": {
  "kernelspec": {
   "display_name": "Python 3 (ipykernel)",
   "language": "python",
   "name": "python3"
  },
  "language_info": {
   "codemirror_mode": {
    "name": "ipython",
    "version": 3
   },
   "file_extension": ".py",
   "mimetype": "text/x-python",
   "name": "python",
   "nbconvert_exporter": "python",
   "pygments_lexer": "ipython3",
   "version": "3.9.12"
  }
 },
 "nbformat": 4,
 "nbformat_minor": 5
}
