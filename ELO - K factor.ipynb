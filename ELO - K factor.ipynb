{
 "cells": [
  {
   "cell_type": "markdown",
   "id": "84c4d339",
   "metadata": {},
   "source": [
    "## Load the data:"
   ]
  },
  {
   "cell_type": "code",
   "execution_count": 1,
   "id": "cfce1197",
   "metadata": {},
   "outputs": [],
   "source": [
    "import warnings\n",
    "import numpy as np\n",
    "import pandas as pd\n",
    "import os\n",
    "from sklearn.model_selection import ParameterGrid\n",
    "from sklearn.metrics import log_loss\n",
    "import matplotlib.pyplot as plt\n",
    "\n",
    "# Suppress specific UserWarnings from openpyxl\n",
    "warnings.filterwarnings(\"ignore\", category=UserWarning, module='openpyxl')\n",
    "\n",
    "# Define the directory where your files are located\n",
    "# data_dir = '.'  \n",
    "data_dir = os.path.join(os.path.pardir) \n",
    "\n",
    "# List to hold the dataframes\n",
    "dataframes = []\n",
    "\n",
    "# Loop through the years and load the files\n",
    "for year in range(2005, 2020):\n",
    "    if year <= 2012:\n",
    "        file_path = os.path.join(data_dir, f'{year}.xls')\n",
    "    else:\n",
    "        file_path = os.path.join(data_dir, f'{year}.xlsx')\n",
    "    \n",
    "    # Load the file into a dataframe\n",
    "    df = pd.read_excel(file_path)\n",
    "    \n",
    "    # Append the dataframe to the list\n",
    "    dataframes.append(df)\n",
    "\n",
    "# Concatenate all the dataframes into one\n",
    "betting_data = pd.concat(dataframes, ignore_index=True)\n",
    "\n",
    "# Ensure all columns are displayed\n",
    "pd.set_option('display.max_columns', None)\n",
    "# Ensure all columns are displayed\n",
    "pd.set_option('display.max_columns', None)\n"
   ]
  },
  {
   "cell_type": "markdown",
   "id": "8d76c52a",
   "metadata": {},
   "source": [
    "## Fixing Anomalies"
   ]
  },
  {
   "cell_type": "code",
   "execution_count": 2,
   "id": "c86bd727",
   "metadata": {},
   "outputs": [
    {
     "name": "stdout",
     "output_type": "stream",
     "text": [
      "Column 'WRank' is not numeric.\n",
      "\n",
      "Column 'LRank' is not numeric.\n",
      "\n",
      "Column 'EXW' is not numeric.\n",
      "\n",
      "Non-numeric values in WRank:\n",
      "Empty DataFrame\n",
      "Columns: [WRank]\n",
      "Index: []\n",
      "Non-numeric values in LRank:\n",
      "Empty DataFrame\n",
      "Columns: [LRank]\n",
      "Index: []\n",
      "Non-numeric values in EXW:\n",
      "        EXW\n",
      "23776  2.,3\n"
     ]
    }
   ],
   "source": [
    "def is_column_numeric(df, column_name):\n",
    "    # Check if the column contains only numeric values\n",
    "    return df[column_name].apply(lambda x: str(x).isnumeric()).all()\n",
    "\n",
    "# Check if columns are numeric before converting\n",
    "anomaly_column = ['WRank', 'LRank', 'EXW']\n",
    "for column in anomaly_column:\n",
    "    if is_column_numeric(betting_data, column):\n",
    "        print(f\"Column '{column}' is numeric.\\n\")\n",
    "    else:\n",
    "        print(f\"Column '{column}' is not numeric.\\n\")\n",
    "\n",
    "def find_non_numeric_values(df, column_name):\n",
    "    # Function to check if a value is numeric\n",
    "    def is_numeric(value):\n",
    "        try:\n",
    "            float(value)\n",
    "            return True\n",
    "        except ValueError:\n",
    "            return False\n",
    "\n",
    "    # Apply the function to the column and filter non-numeric values\n",
    "    non_numeric_values = df[~df[column_name].apply(is_numeric)]\n",
    "\n",
    "    # Display the non-numeric values\n",
    "    print(f\"Non-numeric values in {column_name}:\")\n",
    "    print(non_numeric_values[[column_name]])\n",
    "\n",
    "# WRank column\n",
    "find_non_numeric_values(betting_data, 'WRank')\n",
    "\n",
    "# LRank column\n",
    "find_non_numeric_values(betting_data, 'LRank')\n",
    "\n",
    "# EXW column\n",
    "find_non_numeric_values(betting_data, 'EXW')"
   ]
  },
  {
   "cell_type": "code",
   "execution_count": 3,
   "id": "863a57ee",
   "metadata": {},
   "outputs": [],
   "source": [
    "# Convert WRank and LRank to numeric, coercing errors\n",
    "betting_data['WRank'] = pd.to_numeric(betting_data['WRank'], errors='coerce')\n",
    "betting_data['LRank'] = pd.to_numeric(betting_data['LRank'], errors='coerce')\n",
    "\n",
    "# Fill NaN values with a high number\n",
    "betting_data['WRank'].fillna(100000, inplace=True)\n",
    "betting_data['LRank'].fillna(100000, inplace=True)\n",
    "\n",
    "\n",
    "# Correct the typo in row 38294, column 'EXW'\n",
    "if betting_data.at[38294, 'EXW'] == '2.,3':\n",
    "    betting_data.at[38294, 'EXW'] = '2.3'\n"
   ]
  },
  {
   "cell_type": "markdown",
   "id": "44f8d932",
   "metadata": {},
   "source": [
    "## Feature Engineering:"
   ]
  },
  {
   "cell_type": "code",
   "execution_count": 4,
   "id": "d7e33654",
   "metadata": {},
   "outputs": [],
   "source": [
    "# Now perform the calculations\n",
    "betting_data['higher_rank_won'] = (betting_data['WRank'] < betting_data['LRank']).astype(int)\n",
    "betting_data['higher_rank_points'] = betting_data['higher_rank_won'] * betting_data['WPts'] + betting_data['LPts'] * (1 - betting_data['higher_rank_won'])\n",
    "betting_data['lower_rank_points'] = (1 - betting_data['higher_rank_won']) * betting_data['WPts'] + betting_data['LPts'] * betting_data['higher_rank_won']\n",
    "betting_data['higher_rank_points'].fillna(0, inplace=True)\n",
    "betting_data['lower_rank_points'].fillna(0, inplace=True)\n",
    "\n",
    "all_matches_k = betting_data.copy()\n",
    "\n",
    "# Columns to drop\n",
    "# columns_to_drop = [\n",
    "#     'W1', 'L1', 'W2', 'L2', 'W3', 'L3', 'W4', 'L4', 'W5', 'L5', 'Wsets', 'Lsets', 'Comment',\n",
    "#     'CBW', 'CBL', 'GBW', 'GBL', 'IWW', 'IWL', 'SBW', 'SBL', 'B365W', 'B365L', 'B&WW', 'B&WL',\n",
    "#     'EXW', 'EXL', 'PSW', 'PSL', 'WPts', 'LPts', 'UBW', 'UBL', 'LBW', 'LBL', 'SJW', 'SJL',\n",
    "#     'MaxW', 'MaxL', 'AvgW', 'AvgL'\n",
    "# ]\n",
    "\n",
    "columns_to_drop = [\n",
    "    'W1', 'L1', 'W2', 'L2', 'W3', 'L3', 'W4', 'L4', 'W5', 'L5', 'Wsets', 'Lsets', 'Comment',\n",
    "    'CBW', 'CBL', 'IWW', 'IWL', 'B365W', 'B365L', \n",
    "    'EXW', 'EXL', 'PSW', 'PSL', 'WPts', 'LPts', 'UBW', 'UBL', 'LBW', 'LBL', 'SJW', 'SJL',\n",
    "    'MaxW', 'MaxL', 'AvgW', 'AvgL'\n",
    "]\n",
    "\n",
    "# Drop the columns\n",
    "all_matches_k = all_matches_k.drop(columns=columns_to_drop)"
   ]
  },
  {
   "cell_type": "markdown",
   "id": "5c49c8b8",
   "metadata": {},
   "source": [
    "### K-factor model"
   ]
  },
  {
   "cell_type": "code",
   "execution_count": 5,
   "id": "325d4a13",
   "metadata": {},
   "outputs": [],
   "source": [
    "import pandas as pd\n",
    "import numpy as np\n",
    "from sklearn.metrics import log_loss\n",
    "\n",
    "# Initialize Elo ratings\n",
    "initial_elo = 1500\n",
    "players_elo = {}\n",
    "\n",
    "def win_probability(E_i, E_j):\n",
    "    return 1 / (1 + 10 ** ((E_j - E_i) / 400))\n",
    "\n",
    "def get_player_elo(player_name):\n",
    "    if player_name not in players_elo:\n",
    "        players_elo[player_name] = initial_elo\n",
    "    return players_elo[player_name]\n",
    "\n",
    "def set_player_elo(player_name, elo):\n",
    "    players_elo[player_name] = elo\n",
    "\n",
    "def update_elo_k(E_i, E_j, K, outcome):\n",
    "    pi_j = win_probability(E_i, E_j)  # Calculate win probability for player i against player j\n",
    "    if outcome == 'win':\n",
    "        delta_E_i = K * (1 - pi_j)  # Elo rating change for a win\n",
    "        new_E_i = E_i + delta_E_i\n",
    "    elif outcome == 'loss':\n",
    "        delta_E_i = K * (pi_j - 1)  # Elo rating change for a loss\n",
    "        new_E_i = E_j + delta_E_i\n",
    "    else:\n",
    "        raise ValueError(\"Outcome must be 'win' or 'loss'\")\n",
    "    return new_E_i\n",
    "\n",
    "def evaluate_model(df):\n",
    "    logloss_value = log_loss(df.higher_rank_won, df.prob_high_ranked)\n",
    "    accuracy_value = np.mean(df.match_outcome == df.higher_rank_won)\n",
    "    calibration_value = np.sum(df.prob_high_ranked) / np.sum(df.higher_rank_won)\n",
    "    return logloss_value, accuracy_value, calibration_value\n",
    "\n",
    "def update_elo_and_probabilities_k(df, K):\n",
    "    for index, match in df.iterrows():\n",
    "        winner_name, loser_name = match['Winner'], match['Loser']\n",
    "\n",
    "        # Retrieve current Elo ratings\n",
    "        winner_elo = get_player_elo(winner_name)\n",
    "        loser_elo = get_player_elo(loser_name)\n",
    "        \n",
    "        # Calculate win probabilities\n",
    "        df.at[index, 'prob_winner'] = win_probability(winner_elo, loser_elo)\n",
    "\n",
    "        # Determine match outcomes based on probability and who was expected to win\n",
    "        if match['higher_rank_won']:\n",
    "            df.at[index, 'match_outcome'] = int(df.at[index, 'prob_winner'] > 0.5)\n",
    "            df.at[index, 'prob_high_ranked'] = df.at[index, 'prob_winner']\n",
    "        else:\n",
    "            df.at[index, 'match_outcome'] = int((1 - df.at[index, 'prob_winner']) > 0.5)\n",
    "            df.at[index, 'prob_high_ranked'] = 1 - df.at[index, 'prob_winner']\n",
    "\n",
    "        # Update Elo ratings\n",
    "        new_winner_elo = update_elo_k(winner_elo, loser_elo, K, 'win')\n",
    "        new_loser_elo = update_elo_k(winner_elo, loser_elo, K, 'loss')\n",
    "        set_player_elo(winner_name, new_winner_elo)\n",
    "        set_player_elo(loser_name, new_loser_elo)\n"
   ]
  },
  {
   "cell_type": "markdown",
   "id": "f19fd6b0",
   "metadata": {},
   "source": [
    "### Optimisation:"
   ]
  },
  {
   "cell_type": "code",
   "execution_count": 6,
   "id": "700a40f5",
   "metadata": {},
   "outputs": [
    {
     "name": "stdout",
     "output_type": "stream",
     "text": [
      "Best parameters based on log-loss: \n",
      "K              21.000000\n",
      "logloss         0.633985\n",
      "accuracy        0.629772\n",
      "calibration     1.028118\n",
      "Name: 20, dtype: float64\n",
      "\n",
      "Best parameters based on accuracy: \n",
      "K              51.000000\n",
      "logloss         0.644648\n",
      "accuracy        0.640185\n",
      "calibration     1.058396\n",
      "Name: 50, dtype: float64\n",
      "\n",
      "Update Elo ratings based on (logloss/accuracy): logloss\n",
      "\n",
      "Selected best parameters: \n",
      "K              21.000000\n",
      "logloss         0.633985\n",
      "accuracy        0.629772\n",
      "calibration     1.028118\n",
      "Name: 20, dtype: float64\n"
     ]
    }
   ],
   "source": [
    "results = []\n",
    "\n",
    "# Check K values from 1 to 100\n",
    "for K in range(1, 101):\n",
    "    players_elo = {}\n",
    "    all_matches_k_elo = all_matches_k.copy()\n",
    "    update_elo_and_probabilities_k(all_matches_k_elo, K)\n",
    "    all_matches_k_elo['Date'] = pd.to_datetime(all_matches_k_elo['Date'], format='%Y-%m-%d')\n",
    "    split_time = pd.to_datetime('2019-01-01', format='%Y-%m-%d')\n",
    "    all_matches_k_elo_train = all_matches_k_elo[all_matches_k_elo['Date'] < split_time]\n",
    "    all_matches_k_elo_validation = all_matches_k_elo[all_matches_k_elo['Date'] >= split_time]\n",
    "    logloss_value, accuracy_value, calibration_value = evaluate_model(all_matches_k_elo_validation)\n",
    "    results.append({\n",
    "        'K': K,\n",
    "        'logloss': logloss_value,\n",
    "        'accuracy': accuracy_value,\n",
    "        'calibration': calibration_value\n",
    "    })\n",
    "\n",
    "results_df = pd.DataFrame(results)\n",
    "best_params_logloss = results_df.loc[results_df['logloss'].idxmin()]\n",
    "best_params_accuracy = results_df.loc[results_df['accuracy'].idxmax()]\n",
    "print(f\"Best parameters based on log-loss: \\n{best_params_logloss}\\n\")\n",
    "print(f\"Best parameters based on accuracy: \\n{best_params_accuracy}\\n\")\n",
    "\n",
    "# Prompt user for choice\n",
    "choice = input(\"Update Elo ratings based on (logloss/accuracy): \").strip().lower()\n",
    "\n",
    "if choice == \"logloss\":\n",
    "    best_params = best_params_logloss\n",
    "elif choice == \"accuracy\":\n",
    "    best_params = best_params_accuracy\n",
    "else:\n",
    "    raise ValueError(\"Invalid choice! Please choose 'logloss' or 'accuracy'.\")\n",
    "\n",
    "print(f\"\\nSelected best parameters: \\n{best_params}\")\n",
    "\n",
    "players_elo = {}\n",
    "update_elo_and_probabilities_k(all_matches_k, best_params['K'])\n",
    "\n",
    "# # Optionally, update DataFrame with new Elo scores\n",
    "# all_matches_k['winner_new_elo'] = all_matches_k['Winner'].apply(get_player_elo)\n",
    "# all_matches_k['loser_new_elo'] = all_matches_k['Loser'].apply(get_player_elo)\n"
   ]
  },
  {
   "cell_type": "code",
   "execution_count": 7,
   "id": "82d3a36c",
   "metadata": {},
   "outputs": [
    {
     "data": {
      "image/png": "[encoded data removed]",
      "text/plain": [
       "<Figure size 720x432 with 1 Axes>"
      ]
     },
     "metadata": {
      "needs_background": "light"
     },
     "output_type": "display_data"
    },
    {
     "name": "stdout",
     "output_type": "stream",
     "text": [
      "Minimum Logloss: 0.6340\n",
      "Corresponding K: 21.0\n"
     ]
    }
   ],
   "source": [
    "# Extract values for plotting\n",
    "K_values = results_df['K']\n",
    "logloss = results_df['logloss']\n",
    "\n",
    "# Create a 2D plot\n",
    "plt.figure(figsize=(10, 6))\n",
    "plt.scatter(K_values, logloss, c='blue', alpha=0.6, edgecolors='w', s=80)\n",
    "plt.xlabel('K Values')\n",
    "plt.ylabel('Logloss')\n",
    "plt.title('2D Plot of K vs Logloss')\n",
    "\n",
    "# Highlight the minimum logloss point\n",
    "min_logloss_row = results_df.loc[results_df['logloss'].idxmin()]\n",
    "min_K = min_logloss_row['K']\n",
    "min_logloss = min_logloss_row['logloss']\n",
    "\n",
    "plt.scatter(min_K, min_logloss, color='red', s=100, edgecolors='k', label=f'Min Logloss: {min_logloss:.4f}\\nK: {min_K}')\n",
    "plt.legend()\n",
    "\n",
    "plt.grid(True)\n",
    "plt.show()\n",
    "\n",
    "# Print the corresponding K value\n",
    "print(f'Minimum Logloss: {min_logloss:.4f}')\n",
    "print(f'Corresponding K: {min_K}')"
   ]
  },
  {
   "cell_type": "markdown",
   "id": "bec78a3f",
   "metadata": {},
   "source": [
    "## Split Dataset:"
   ]
  },
  {
   "cell_type": "code",
   "execution_count": 8,
   "id": "36afad0f",
   "metadata": {},
   "outputs": [],
   "source": [
    "all_matches_k['Date'] = pd.to_datetime(all_matches_k['Date'], format='%Y-%m-%d')\n",
    "split_time = pd.to_datetime('2019-01-01', format='%Y-%m-%d')\n",
    "all_matches_k_train = all_matches_k[all_matches_k['Date'] < split_time]\n",
    "all_matches_k_validation = all_matches_k[all_matches_k['Date'] >= split_time]\n"
   ]
  },
  {
   "cell_type": "markdown",
   "id": "4c7c5285",
   "metadata": {},
   "source": [
    "## Evaluate Model Performance\n"
   ]
  },
  {
   "cell_type": "code",
   "execution_count": 9,
   "id": "49da47f7",
   "metadata": {},
   "outputs": [
    {
     "name": "stdout",
     "output_type": "stream",
     "text": [
      "Accuracy: 0.6297724643270344\n",
      "Calibration: 1.0281184988274965\n",
      "Log Loss: 0.6339848683395303\n"
     ]
    }
   ],
   "source": [
    "def calculate_metrics(data):\n",
    "    # Calculate accuracy\n",
    "    accuracy = np.mean(data.match_outcome == data.higher_rank_won)\n",
    "    print(f'Accuracy: {accuracy}')\n",
    "\n",
    "    # Calculate calibration\n",
    "    calibration = np.sum(data.prob_high_ranked) / np.sum(data.higher_rank_won)\n",
    "    print(f'Calibration: {calibration}')\n",
    "\n",
    "    # Define log loss function\n",
    "    def logloss(actual, predictions):\n",
    "        epsilon = 1e-15\n",
    "        predictions = np.clip(predictions, epsilon, 1 - epsilon)\n",
    "        \n",
    "        log_loss_value = -(1 / len(actual)) * np.sum(\n",
    "            actual * np.log(predictions) + (1 - actual) * np.log(1 - predictions))\n",
    "        return log_loss_value\n",
    "\n",
    "    # Calculate log loss\n",
    "    log_loss_value = logloss(data.higher_rank_won, data.prob_high_ranked)\n",
    "    print(f'Log Loss: {log_loss_value}')\n",
    "\n",
    "    return accuracy, calibration, log_loss_value\n",
    "\n",
    "# Example usage with a dataset\n",
    "accuracy_k, calibration_k, log_loss_k = calculate_metrics(all_matches_k_validation)\n"
   ]
  },
  {
   "cell_type": "code",
   "execution_count": 11,
   "id": "969f2640",
   "metadata": {},
   "outputs": [
    {
     "name": "stdout",
     "output_type": "stream",
     "text": [
      "                  model  pred_acc  log_loss  calibration\n",
      "0         K_Constant_25  0.631315  0.634276     1.035876\n",
      "1  K_Constant_Optimised  0.629772  0.633985     1.028118\n"
     ]
    }
   ],
   "source": [
    "# Create a DataFrame with the selected metrics\n",
    "metric_comparison = pd.DataFrame({\n",
    "    'model': ['K_Constant_25', 'K_Constant_Optimised'],\n",
    "    'pred_acc': [results_df.iloc[24][2], accuracy_k],\n",
    "    'log_loss': [results_df.iloc[24][1], log_loss_k],\n",
    "    'calibration': [results_df.iloc[24][3], calibration_k]\n",
    "})\n",
    "\n",
    "# Print the DataFrame\n",
    "print(metric_comparison)\n"
   ]
  },
  {
   "cell_type": "markdown",
   "id": "a89e4ff2",
   "metadata": {},
   "source": [
    "## Extension 1:"
   ]
  },
  {
   "cell_type": "code",
   "execution_count": 12,
   "id": "54b61295",
   "metadata": {},
   "outputs": [],
   "source": [
    "# Load your dataset\n",
    "df = all_matches_k_validation\n",
    "\n",
    "# Define function to filter dataset for top N players\n",
    "def filter_top_players(df, top_n):\n",
    "    df_top = df[(df['WRank'] <= top_n) | (df['LRank'] <= top_n)]\n",
    "    return df_top\n",
    "\n",
    "# Filter the dataset for top 50 and top 100 players\n",
    "df_top_50 = filter_top_players(df, 50)\n",
    "df_top_100 = filter_top_players(df, 100)\n",
    "\n"
   ]
  },
  {
   "cell_type": "code",
   "execution_count": 13,
   "id": "cff23e7a",
   "metadata": {},
   "outputs": [
    {
     "name": "stdout",
     "output_type": "stream",
     "text": [
      "Accuracy: 0.651175505740842\n",
      "Calibration: 1.0540041270682576\n",
      "Log Loss: 0.6157680743562562\n"
     ]
    }
   ],
   "source": [
    "accuracy_50, calibration_50, log_loss_50 = calculate_metrics(df_top_50)\n"
   ]
  },
  {
   "cell_type": "code",
   "execution_count": 14,
   "id": "03df546a",
   "metadata": {},
   "outputs": [
    {
     "name": "stdout",
     "output_type": "stream",
     "text": [
      "Accuracy: 0.6327433628318584\n",
      "Calibration: 1.0358075685232098\n",
      "Log Loss: 0.6329405324694148\n"
     ]
    }
   ],
   "source": [
    "accuracy_100, calibration_100, log_loss_100 = calculate_metrics(df_top_100)\n"
   ]
  },
  {
   "cell_type": "code",
   "execution_count": 15,
   "id": "4041f905",
   "metadata": {
    "scrolled": true
   },
   "outputs": [
    {
     "name": "stdout",
     "output_type": "stream",
     "text": [
      "                          model  accuracy  log_loss  calibration\n",
      "0          K_Constant_Optimised  0.629772  0.633985     1.028118\n",
      "1   K_Constant_Optimised Top 50  0.651176  0.615768     1.054004\n",
      "2  K_Constant_Optimised Top 100  0.632743  0.632941     1.035808\n"
     ]
    }
   ],
   "source": [
    "# Create a DataFrame to store the validation statistics\n",
    "validation_stats = pd.DataFrame({\n",
    "    'model': [\n",
    "        'K_Constant_Optimised', 'K_Constant_Optimised Top 50', 'K_Constant_Optimised Top 100'\n",
    "    ],\n",
    "    'accuracy': [\n",
    "        accuracy_k, accuracy_50, accuracy_100\n",
    "    ],\n",
    "    'log_loss': [\n",
    "        log_loss_k, log_loss_50, log_loss_100\n",
    "    ],\n",
    "    'calibration': [\n",
    "        calibration_k, calibration_50, calibration_100\n",
    "    ]\n",
    "})\n",
    "\n",
    "# Print the validation statistics DataFrame\n",
    "print(validation_stats)"
   ]
  },
  {
   "cell_type": "code",
   "execution_count": null,
   "id": "5d1d5096",
   "metadata": {},
   "outputs": [],
   "source": []
  }
 ],
 "metadata": {
  "kernelspec": {
   "display_name": "Python 3 (ipykernel)",
   "language": "python",
   "name": "python3"
  },
  "language_info": {
   "codemirror_mode": {
    "name": "ipython",
    "version": 3
   },
   "file_extension": ".py",
   "mimetype": "text/x-python",
   "name": "python",
   "nbconvert_exporter": "python",
   "pygments_lexer": "ipython3",
   "version": "3.9.12"
  }
 },
 "nbformat": 4,
 "nbformat_minor": 5
}
